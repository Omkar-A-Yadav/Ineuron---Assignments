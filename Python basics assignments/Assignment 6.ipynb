{
 "cells": [
  {
   "cell_type": "markdown",
   "id": "9363b1b0",
   "metadata": {},
   "source": [
    "# Assignment 6"
   ]
  },
  {
   "cell_type": "markdown",
   "id": "cb4eb3b3",
   "metadata": {},
   "source": [
    "<b>1. What are escape characters, and how do you use them?"
   ]
  },
  {
   "cell_type": "markdown",
   "id": "1c25a6bd",
   "metadata": {},
   "source": [
    "Escape characters are used in string to use prohibited characters"
   ]
  },
  {
   "cell_type": "code",
   "execution_count": 15,
   "id": "65e215c7",
   "metadata": {},
   "outputs": [
    {
     "name": "stdout",
     "output_type": "stream",
     "text": [
      "My name is \" Omkar\" \n",
      "Omkar 's Assignment\n"
     ]
    }
   ],
   "source": [
    "# for example\n",
    "\n",
    "# s = \"My name is \" Omkar\" \"     this statement will give an error as \" \" is one of the illegal character\n",
    "\n",
    "# to avoid this we can use an escape character \\\n",
    "\n",
    "s = \"My name is \\\" Omkar\\\" \"\n",
    "\n",
    "print(s)\n",
    "\n",
    "s = 'Omkar \\'s Assignment'\n",
    "\n",
    "print(s)\n"
   ]
  },
  {
   "cell_type": "markdown",
   "id": "29c0b084",
   "metadata": {},
   "source": [
    "<b>2. What do the escape characters n and t stand for?"
   ]
  },
  {
   "cell_type": "code",
   "execution_count": 19,
   "id": "82d3f5e3",
   "metadata": {},
   "outputs": [
    {
     "name": "stdout",
     "output_type": "stream",
     "text": [
      "Python\n",
      "\n",
      "\n",
      "Assignment\n"
     ]
    }
   ],
   "source": [
    "print(\"Python\")\n",
    "print(\"\\n\") # \\n will start a new line\n",
    "print(\"Assignment\")"
   ]
  },
  {
   "cell_type": "code",
   "execution_count": 20,
   "id": "a639023b",
   "metadata": {},
   "outputs": [
    {
     "name": "stdout",
     "output_type": "stream",
     "text": [
      "\tPython\n"
     ]
    }
   ],
   "source": [
    "print(\"\\tPython\") #\\t will give tab"
   ]
  },
  {
   "cell_type": "markdown",
   "id": "7b0b03e5",
   "metadata": {},
   "source": [
    "<b>3. What is the way to include backslash characters in a string?"
   ]
  },
  {
   "cell_type": "markdown",
   "id": "f5de0333",
   "metadata": {},
   "source": [
    "Have to use \\\\ character to get \\ single backlash in string"
   ]
  },
  {
   "cell_type": "code",
   "execution_count": 31,
   "id": "c4d882e0",
   "metadata": {},
   "outputs": [
    {
     "name": "stdout",
     "output_type": "stream",
     "text": [
      "Omkar \\ Python \\ Assignment \\\n"
     ]
    }
   ],
   "source": [
    "s='Omkar \\ Python \\ Assignment \\\\'\n",
    "print(s)\n"
   ]
  },
  {
   "cell_type": "code",
   "execution_count": 28,
   "id": "3ade3f67",
   "metadata": {},
   "outputs": [
    {
     "name": "stdout",
     "output_type": "stream",
     "text": [
      "Omkar \\ Python\n"
     ]
    }
   ],
   "source": [
    "s='Omkar \\\\ Python'\n",
    "print(s)"
   ]
  },
  {
   "cell_type": "markdown",
   "id": "6345e7de",
   "metadata": {},
   "source": [
    "<b>4. The string \"Howl's Moving Castle\" is a correct value. Why isn't the single quote character in the word Howl's not escaped a problem?"
   ]
  },
  {
   "cell_type": "markdown",
   "id": "19dffa27",
   "metadata": {},
   "source": [
    "No problem ocuured as Double quotes  \" \" are used in the string"
   ]
  },
  {
   "cell_type": "markdown",
   "id": "b0d76fcf",
   "metadata": {},
   "source": [
    "<b>5. How do you write a string of newlines if you don't want to use the n character?"
   ]
  },
  {
   "cell_type": "markdown",
   "id": "47729e25",
   "metadata": {},
   "source": [
    "We can use the ''' ''' multiline strings to write new lines without \\n"
   ]
  },
  {
   "cell_type": "code",
   "execution_count": 37,
   "id": "43dd7c3d",
   "metadata": {},
   "outputs": [
    {
     "name": "stdout",
     "output_type": "stream",
     "text": [
      "Python\n",
      "Basic\n",
      "Assignment\n",
      "\n"
     ]
    }
   ],
   "source": [
    "s ='''Python\n",
    "Basic\n",
    "Assignment\n",
    "'''\n",
    "\n",
    "print(s)"
   ]
  },
  {
   "cell_type": "markdown",
   "id": "aa96f5cc",
   "metadata": {},
   "source": [
    "<b>6. What are the values of the given expressions?"
   ]
  },
  {
   "cell_type": "markdown",
   "id": "f66cdd98",
   "metadata": {},
   "source": [
    "<b>'Hello, world!'[1]"
   ]
  },
  {
   "cell_type": "markdown",
   "id": "9159a8b4",
   "metadata": {},
   "source": [
    "e"
   ]
  },
  {
   "cell_type": "markdown",
   "id": "f7f110af",
   "metadata": {},
   "source": [
    "<b>'Hello, world!'[0:5]"
   ]
  },
  {
   "cell_type": "markdown",
   "id": "65768b1d",
   "metadata": {},
   "source": [
    "Hello"
   ]
  },
  {
   "cell_type": "markdown",
   "id": "4c860676",
   "metadata": {},
   "source": [
    "<b>'Hello, world!'[:5]"
   ]
  },
  {
   "cell_type": "markdown",
   "id": "9d168a26",
   "metadata": {},
   "source": [
    "Hello"
   ]
  },
  {
   "cell_type": "markdown",
   "id": "a4e7c997",
   "metadata": {},
   "source": [
    "<b>'Hello, world!'[3:]"
   ]
  },
  {
   "cell_type": "markdown",
   "id": "3ad56feb",
   "metadata": {},
   "source": [
    "lo, world!"
   ]
  },
  {
   "cell_type": "markdown",
   "id": "d932a00e",
   "metadata": {},
   "source": [
    "<b>7. What are the values of the following expressions?"
   ]
  },
  {
   "cell_type": "markdown",
   "id": "b3586972",
   "metadata": {},
   "source": [
    "<b>'Hello'.upper()"
   ]
  },
  {
   "cell_type": "code",
   "execution_count": null,
   "id": "d27fb69e",
   "metadata": {},
   "outputs": [],
   "source": [
    "HELLO"
   ]
  },
  {
   "cell_type": "markdown",
   "id": "c9110abd",
   "metadata": {},
   "source": [
    "<b>'Hello'.upper().isupper()"
   ]
  },
  {
   "cell_type": "code",
   "execution_count": null,
   "id": "fd0f3206",
   "metadata": {},
   "outputs": [],
   "source": [
    "True"
   ]
  },
  {
   "cell_type": "markdown",
   "id": "4d060629",
   "metadata": {},
   "source": [
    "<b>'Hello'.upper().lower()"
   ]
  },
  {
   "cell_type": "code",
   "execution_count": null,
   "id": "1bde500f",
   "metadata": {},
   "outputs": [],
   "source": [
    "False"
   ]
  },
  {
   "cell_type": "markdown",
   "id": "660ba314",
   "metadata": {},
   "source": [
    "<b>8. What are the values of the following expressions?"
   ]
  },
  {
   "cell_type": "markdown",
   "id": "3ab8b09a",
   "metadata": {},
   "source": [
    "<b>'Remember, remember, the fifth of July.'.split()"
   ]
  },
  {
   "cell_type": "code",
   "execution_count": 42,
   "id": "603f949b",
   "metadata": {},
   "outputs": [
    {
     "data": {
      "text/plain": [
       "['Remember,', 'remember,', 'the', 'fifth', 'of', 'July.']"
      ]
     },
     "execution_count": 42,
     "metadata": {},
     "output_type": "execute_result"
    }
   ],
   "source": [
    "'Remember, remember, the fifth of July.'.split() \n",
    "\n",
    "# The string is converted to list on basis of space"
   ]
  },
  {
   "cell_type": "markdown",
   "id": "875bf87c",
   "metadata": {},
   "source": [
    "<b>'-'.join('There can only one.'.split())"
   ]
  },
  {
   "cell_type": "code",
   "execution_count": 4,
   "id": "f068252d",
   "metadata": {},
   "outputs": [
    {
     "data": {
      "text/plain": [
       "'There-can-only-one.'"
      ]
     },
     "execution_count": 4,
     "metadata": {},
     "output_type": "execute_result"
    }
   ],
   "source": [
    "'-'.join('There can only one.'.split())\n",
    "\n",
    "# first the string is converted to list based on spaces between words \" \"\n",
    "\n",
    "#then the list is converted back into string using join and \"-\" is used between two list items"
   ]
  },
  {
   "cell_type": "markdown",
   "id": "a499b5a9",
   "metadata": {},
   "source": [
    "<b>9. What are the methods for right-justifying, left-justifying, and centering a string?"
   ]
  },
  {
   "cell_type": "code",
   "execution_count": 7,
   "id": "6b1c5d88",
   "metadata": {
    "scrolled": true
   },
   "outputs": [
    {
     "data": {
      "text/plain": [
       "'****Python'"
      ]
     },
     "execution_count": 7,
     "metadata": {},
     "output_type": "execute_result"
    }
   ],
   "source": [
    "\"Python\".rjust(10,'*')\n",
    "\n",
    "# This intakes number of characters and palces the string at right most corner and fills  the remaining characters with *"
   ]
  },
  {
   "cell_type": "code",
   "execution_count": 8,
   "id": "ab017a0d",
   "metadata": {},
   "outputs": [
    {
     "data": {
      "text/plain": [
       "'Python****'"
      ]
     },
     "execution_count": 8,
     "metadata": {},
     "output_type": "execute_result"
    }
   ],
   "source": [
    "\"Python\".ljust(10,'*')\n",
    "\n",
    "# This intakes number of characters and palces the string at left most corner and fills  the remaining characters with *"
   ]
  },
  {
   "cell_type": "code",
   "execution_count": 10,
   "id": "884114eb",
   "metadata": {},
   "outputs": [
    {
     "data": {
      "text/plain": [
       "'**Python**'"
      ]
     },
     "execution_count": 10,
     "metadata": {},
     "output_type": "execute_result"
    }
   ],
   "source": [
    "\"Python\".center(10,'*')\n",
    "\n",
    "# This intakes number of characters and palces the string at center and fills  the remaining characters with *"
   ]
  },
  {
   "cell_type": "markdown",
   "id": "cb273593",
   "metadata": {},
   "source": [
    "<b>10. What is the best way to remove whitespace characters from the start or end?"
   ]
  },
  {
   "cell_type": "code",
   "execution_count": 12,
   "id": "68b6ccde",
   "metadata": {},
   "outputs": [
    {
     "name": "stdout",
     "output_type": "stream",
     "text": [
      "Python basic assignment\n"
     ]
    }
   ],
   "source": [
    "s = \"    Python basic assignment  \"\n",
    "\n",
    "print(s.strip())\n",
    "\n",
    "# strip() method removes whitespaces from start and end of the string"
   ]
  },
  {
   "cell_type": "markdown",
   "id": "f71655ab",
   "metadata": {},
   "source": [
    "<b>"
   ]
  }
 ],
 "metadata": {
  "kernelspec": {
   "display_name": "Python 3 (ipykernel)",
   "language": "python",
   "name": "python3"
  },
  "language_info": {
   "codemirror_mode": {
    "name": "ipython",
    "version": 3
   },
   "file_extension": ".py",
   "mimetype": "text/x-python",
   "name": "python",
   "nbconvert_exporter": "python",
   "pygments_lexer": "ipython3",
   "version": "3.9.7"
  }
 },
 "nbformat": 4,
 "nbformat_minor": 5
}
