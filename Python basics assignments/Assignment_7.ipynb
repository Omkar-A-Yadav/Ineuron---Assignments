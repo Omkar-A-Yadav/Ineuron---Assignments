{
 "cells": [
  {
   "cell_type": "markdown",
   "id": "c0da4c65",
   "metadata": {},
   "source": [
    "# Assignment 7"
   ]
  },
  {
   "cell_type": "markdown",
   "id": "58989470",
   "metadata": {},
   "source": [
    "<b>1. What is the name of the feature responsible for generating Regex objects?"
   ]
  },
  {
   "cell_type": "markdown",
   "id": "4d79b0f7",
   "metadata": {},
   "source": [
    "re.compile()"
   ]
  },
  {
   "cell_type": "markdown",
   "id": "3565b881",
   "metadata": {},
   "source": [
    "<b>2. Why do raw strings often appear in Regex objects?"
   ]
  },
  {
   "cell_type": "code",
   "execution_count": 2,
   "id": "4d2a4eb9",
   "metadata": {},
   "outputs": [
    {
     "name": "stdout",
     "output_type": "stream",
     "text": [
      "Python \n",
      "Assignment\n",
      "Python \\nAssignment\n"
     ]
    }
   ],
   "source": [
    "#Raw strings neglect escape characters\n",
    "\n",
    "print(\"Python \\nAssignment\")\n",
    "\n",
    "print(r'Python \\nAssignment')"
   ]
  },
  {
   "cell_type": "markdown",
   "id": "53daba82",
   "metadata": {},
   "source": [
    "<b>3. What is the return value of the search() method?"
   ]
  },
  {
   "cell_type": "markdown",
   "id": "e814c1fc",
   "metadata": {},
   "source": [
    "search() method returns match objects"
   ]
  },
  {
   "cell_type": "markdown",
   "id": "3cf2e488",
   "metadata": {},
   "source": [
    "<b>4. From a Match item, how do you get the actual strings that match the pattern?"
   ]
  },
  {
   "cell_type": "markdown",
   "id": "36c1f88b",
   "metadata": {},
   "source": [
    "group() method returns  strings from match item"
   ]
  },
  {
   "cell_type": "markdown",
   "id": "6d63b082",
   "metadata": {},
   "source": [
    "<b>5. In the regex which created from the r'(\\d\\d\\d)-(\\d\\d\\d-\\d\\d\\d\\d)', what does group zero cover? Group 2? Group 1?"
   ]
  },
  {
   "cell_type": "markdown",
   "id": "f822e037",
   "metadata": {},
   "source": [
    "group(0) - \\d\\d\\d-\\d\\d\\d-\\d\\d\\d\\d  returns entire pattern\n",
    "\n",
    "group(2) - \\d\\d\\d-\\d\\d\\d\\d         returns pattern in 1st set of parantheses\n",
    " \n",
    "group(1) - \\d\\d\\d                  returns pattern in 2nd set of parantheses"
   ]
  },
  {
   "cell_type": "markdown",
   "id": "685f6d09",
   "metadata": {},
   "source": [
    "<b>6. In standard expression syntax, parentheses and intervals have distinct meanings. How can you tell a regex that you want it to fit real parentheses and periods?"
   ]
  },
  {
   "cell_type": "markdown",
   "id": "fdf27613",
   "metadata": {},
   "source": [
    "we can use escape characters to include special characters\n",
    "\n",
    "re.compile(r'\\(\\)\\.')"
   ]
  },
  {
   "cell_type": "markdown",
   "id": "8c4f9573",
   "metadata": {},
   "source": [
    "<b>7. The findall() method returns a string list or a list of string tuples. What causes it to return one of the two options?"
   ]
  },
  {
   "cell_type": "markdown",
   "id": "f558a026",
   "metadata": {},
   "source": [
    "a string list is returned if there are no groups"
   ]
  },
  {
   "cell_type": "code",
   "execution_count": 15,
   "id": "f315cb52",
   "metadata": {},
   "outputs": [
    {
     "name": "stdout",
     "output_type": "stream",
     "text": [
      "['abcd-python']\n"
     ]
    }
   ],
   "source": [
    "import re\n",
    "\n",
    "pat = re.compile(r'\\w+-\\w+')\n",
    "\n",
    "mo = pat.findall(\"abcd-python\")\n",
    "\n",
    "print(mo)"
   ]
  },
  {
   "cell_type": "code",
   "execution_count": 19,
   "id": "5e918655",
   "metadata": {},
   "outputs": [
    {
     "name": "stdout",
     "output_type": "stream",
     "text": [
      "[('abcd', '-', 'python')]\n"
     ]
    }
   ],
   "source": [
    "import re\n",
    "\n",
    "pat = re.compile(r'(\\w+)(-)(\\w+)')\n",
    "\n",
    "mo = pat.findall(\"abcd-python\")\n",
    "\n",
    "print(mo)"
   ]
  },
  {
   "cell_type": "markdown",
   "id": "f06c433e",
   "metadata": {},
   "source": [
    "<b>8. In standard expressions, what does the | character mean?"
   ]
  },
  {
   "cell_type": "markdown",
   "id": "ceb492b0",
   "metadata": {},
   "source": [
    "| is the pipe character it is an or statement "
   ]
  },
  {
   "cell_type": "code",
   "execution_count": 20,
   "id": "4f3c90ea",
   "metadata": {},
   "outputs": [
    {
     "name": "stdout",
     "output_type": "stream",
     "text": [
      "['1', '1', '1', '1', '2', '3']\n"
     ]
    }
   ],
   "source": [
    "import re\n",
    "\n",
    "pat = re.compile(r'1|2|3')\n",
    "\n",
    "mo = pat.findall(\"1 1 1 1 2 3\")\n",
    "\n",
    "print(mo)"
   ]
  },
  {
   "cell_type": "markdown",
   "id": "9adb0f7f",
   "metadata": {},
   "source": [
    "<b>9. In regular expressions, what does the character stand for?"
   ]
  },
  {
   "cell_type": "markdown",
   "id": "5bf2ccbc",
   "metadata": {},
   "source": [
    "? is used for optional matching of the pattern\n",
    "\n",
    "it is also used to perform non-greedy search\n"
   ]
  },
  {
   "cell_type": "code",
   "execution_count": 67,
   "id": "0df18f8a",
   "metadata": {},
   "outputs": [
    {
     "name": "stdout",
     "output_type": "stream",
     "text": [
      "pythonab\n",
      "python\n"
     ]
    }
   ],
   "source": [
    "import re\n",
    "\n",
    "pat = re.compile(r'python(ab)?') # here ab is put in group and is optional to match\n",
    "\n",
    "mo = pat.search(r\"pythonab\") #here we have ab in string so we get output as pythonab\n",
    "\n",
    "print(mo.group())\n",
    "\n",
    "mo = pat.search(r\"python\") #here we dont have ab in string so we get output as python\n",
    "\n",
    "print(mo.group())\n",
    "\n"
   ]
  },
  {
   "cell_type": "markdown",
   "id": "baccdfa4",
   "metadata": {},
   "source": [
    "<b>10.In regular expressions, what is the difference between the + and * characters?"
   ]
  },
  {
   "cell_type": "markdown",
   "id": "563c17a4",
   "metadata": {},
   "source": [
    "Plus + can be translated to one or more form the given pattern"
   ]
  },
  {
   "cell_type": "code",
   "execution_count": 72,
   "id": "f9f92cd3",
   "metadata": {},
   "outputs": [
    {
     "name": "stdout",
     "output_type": "stream",
     "text": [
      "['python', 'python', 'python']\n",
      "None\n"
     ]
    }
   ],
   "source": [
    "import re\n",
    "\n",
    "pat = re.compile(r'python+') \n",
    "\n",
    "mo = pat.findall(\"python python python\") # here we have python more than once (3 times) so we get it 3 times in list\n",
    "\n",
    "print(mo)\n",
    "\n",
    "mo = pat.search(\"abc abc\") # python is not present so we get none\n",
    "\n",
    "print(mo)"
   ]
  },
  {
   "cell_type": "markdown",
   "id": "52e766ff",
   "metadata": {},
   "source": [
    "character * can be translated to zero or more form the given pattern"
   ]
  },
  {
   "cell_type": "code",
   "execution_count": 79,
   "id": "4eeffa01",
   "metadata": {},
   "outputs": [
    {
     "name": "stdout",
     "output_type": "stream",
     "text": [
      "['ppppppppa']\n",
      "['a']\n"
     ]
    }
   ],
   "source": [
    "import re\n",
    "\n",
    "pat = re.compile(r'p*a') \n",
    "\n",
    "mo = pat.findall(\"ppppppppa\") # here we have p multiple times then a \n",
    "\n",
    "print(mo)\n",
    "\n",
    "mo = pat.findall(\"a\") # here p is not even present still it finds a\n",
    "\n",
    "print(mo)"
   ]
  },
  {
   "cell_type": "markdown",
   "id": "a3b24acd",
   "metadata": {},
   "source": [
    "<b>11. What is the difference between {4} and {4,5} in regular expression?"
   ]
  },
  {
   "cell_type": "code",
   "execution_count": 87,
   "id": "7c40cc70",
   "metadata": {},
   "outputs": [
    {
     "name": "stdout",
     "output_type": "stream",
     "text": [
      "['1234', '1234']\n",
      "['1234', '12345']\n"
     ]
    }
   ],
   "source": [
    "#{4} matches the string for  exactly 4 repititions of the preceeding pattern\n",
    "\n",
    "#{4,5} matches the string  min 4 times and max 5 times for repitition of the preceeding pattern\n",
    "\n",
    "import re\n",
    "\n",
    "pat = re.compile(r'\\d{4}') \n",
    "\n",
    "mo = pat.findall(\"1234 12345\") \n",
    "\n",
    "print(mo)\n",
    "\n",
    "pat = re.compile(r'\\d{4,5}') \n",
    "\n",
    "mo = pat.findall(\"1234 12345\") \n",
    "\n",
    "print(mo)"
   ]
  },
  {
   "cell_type": "markdown",
   "id": "10c3f4e7",
   "metadata": {},
   "source": [
    "<b>12. What do you mean by the \\d, \\w, and \\s shorthand character classes signify in regular expressions?"
   ]
  },
  {
   "cell_type": "code",
   "execution_count": 92,
   "id": "0be9cee3",
   "metadata": {},
   "outputs": [
    {
     "name": "stdout",
     "output_type": "stream",
     "text": [
      "['1', '2', '3', '4']\n",
      "['1', '2', '3', '4', 'p', 'y', 't', 'h', 'o', 'n', '_']\n",
      "[' ', ' ', ' ']\n"
     ]
    }
   ],
   "source": [
    "import re\n",
    "\n",
    "pat = re.compile(r'\\d') #\\d signifies digits from 0 - 9\n",
    "\n",
    "mo = pat.findall(\"1234abcd\") \n",
    "\n",
    "print(mo)\n",
    "\n",
    "pat = re.compile(r'\\w') #\\d signifies digits , letters , underscore\n",
    "\n",
    "mo = pat.findall(\"1234python_\") \n",
    "\n",
    "print(mo)\n",
    "\n",
    "pat = re.compile(r'\\s') #\\s signifies space\n",
    "\n",
    "mo = pat.findall(\" 1234 python \") \n",
    "\n",
    "print(mo)"
   ]
  },
  {
   "cell_type": "markdown",
   "id": "9fdce91a",
   "metadata": {},
   "source": [
    "<b>13. What do means by \\D, \\W, and \\S shorthand character classes signify in regular expressions?"
   ]
  },
  {
   "cell_type": "code",
   "execution_count": 97,
   "id": "9e8e8248",
   "metadata": {},
   "outputs": [
    {
     "name": "stdout",
     "output_type": "stream",
     "text": [
      "['a', 'b', 'c', 'd']\n",
      "['*', '-']\n",
      "['1', '2', '3', '4', 'p', 'y', 't', 'h', 'o', 'n']\n"
     ]
    }
   ],
   "source": [
    "import re\n",
    "\n",
    "pat = re.compile(r'\\D') #\\d signifies anything except digits from 0 - 9\n",
    "\n",
    "mo = pat.findall(\"1234abcd\") \n",
    "\n",
    "print(mo)\n",
    "\n",
    "pat = re.compile(r'\\W') #\\d signifies anything except digits , letters , underscore\n",
    "\n",
    "mo = pat.findall(\"1234python_*-\") \n",
    "\n",
    "print(mo)\n",
    "\n",
    "pat = re.compile(r'\\S') #\\s signifies anything except space\n",
    "\n",
    "mo = pat.findall(\" 1234 python \") \n",
    "\n",
    "print(mo)"
   ]
  },
  {
   "cell_type": "markdown",
   "id": "86fb91f8",
   "metadata": {},
   "source": [
    "<b>14. What is the difference between . * ? and . * "
   ]
  },
  {
   "cell_type": "code",
   "execution_count": 21,
   "id": "f8402e87",
   "metadata": {},
   "outputs": [
    {
     "name": "stdout",
     "output_type": "stream",
     "text": [
      "012 yxz stop 578 stop\n",
      "012 yxz stop\n"
     ]
    }
   ],
   "source": [
    "#. is a wildcard character which will match anything except new line character\n",
    "#* means zero or more of the preceeding character\n",
    "#? this does non-greedy matching of the preceeding characters\n",
    "\n",
    "import re\n",
    "\n",
    "pat = re.compile(r'.*stop') #  this matches everything followed by abc in a greedy manner that is \n",
    "                          # it will choose the longest possible string, thats why it goes till second\n",
    "                          # 'stop'\n",
    "\n",
    "mo = pat.search(\"012 yxz stop 578 stop\") \n",
    "\n",
    "print(mo.group())\n",
    "\n",
    "pat = re.compile(r'.*?stop') # ? does search in a non-greedy manner thats why it chooses the first'stop'\n",
    "\n",
    "mo = pat.search(\"012 yxz stop 578 stop\") \n",
    "\n",
    "print(mo.group())\n"
   ]
  },
  {
   "cell_type": "markdown",
   "id": "d07bfd9b",
   "metadata": {},
   "source": [
    "<b>15. What is the syntax for matching both numbers and lowercase letters with a character class?"
   ]
  },
  {
   "cell_type": "code",
   "execution_count": 32,
   "id": "f00c7d1e",
   "metadata": {},
   "outputs": [
    {
     "name": "stdout",
     "output_type": "stream",
     "text": [
      "['0', '1', 'c', 'd']\n"
     ]
    }
   ],
   "source": [
    "import re\n",
    "\n",
    "pat = re.compile('[0-9a-z]') ## <-------\n",
    "\n",
    "mo = pat.findall(\"01ABcd\") \n",
    "\n",
    "print(mo)"
   ]
  },
  {
   "cell_type": "markdown",
   "id": "2f647eec",
   "metadata": {},
   "source": [
    "<b>16. What is the procedure for making a normal expression in regax case insensitive?"
   ]
  },
  {
   "cell_type": "code",
   "execution_count": 38,
   "id": "a8a2961e",
   "metadata": {},
   "outputs": [
    {
     "name": "stdout",
     "output_type": "stream",
     "text": [
      "['ABC', 'abc']\n"
     ]
    }
   ],
   "source": [
    "import re\n",
    "\n",
    "pat = re.compile('abc',re.I) # use re.I to make case insensitive\n",
    "\n",
    "mo = pat.findall(\"ABC abc\") \n",
    "\n",
    "print(mo)"
   ]
  },
  {
   "cell_type": "markdown",
   "id": "262c30fa",
   "metadata": {},
   "source": [
    "<b>17. What does the . character normally match? What does it match if re.DOTALL is passed as 2nd argument in re.compile()?"
   ]
  },
  {
   "cell_type": "markdown",
   "id": "e409ef24",
   "metadata": {},
   "source": [
    " . is a wildcard character which will match anything except new line character\n",
    " \n",
    " if re.DOTALL is used with . character then it will match everything including \\n (newline character)"
   ]
  },
  {
   "cell_type": "code",
   "execution_count": 48,
   "id": "60592490",
   "metadata": {},
   "outputs": [
    {
     "name": "stdout",
     "output_type": "stream",
     "text": [
      "ABC abc.\n",
      "ABC abc.\n",
      "xyz\n"
     ]
    }
   ],
   "source": [
    "import re\n",
    "\n",
    "pat = re.compile('.*') \n",
    "\n",
    "mo = pat.search(\"ABC abc.\\nxyz\") #without re.DOTALL it skips everything after \\n\n",
    "\n",
    "print(mo.group())\n",
    "\n",
    "pat = re.compile('.*',re.DOTALL) #with re.DOTALL everything is included\n",
    "\n",
    "mo = pat.search(\"ABC abc.\\nxyz\") \n",
    "\n",
    "print(mo.group())"
   ]
  },
  {
   "cell_type": "markdown",
   "id": "704ebf4c",
   "metadata": {},
   "source": [
    "<b>18. If numReg = re.compile(r'\\d+'), what will numRegex.sub('X', '11 drummers, 10 pipers, five rings, 4 hen') return?"
   ]
  },
  {
   "cell_type": "code",
   "execution_count": 59,
   "id": "7d3f6fa6",
   "metadata": {},
   "outputs": [
    {
     "name": "stdout",
     "output_type": "stream",
     "text": [
      "X drummers, X pipers, five rings, X hen\n"
     ]
    }
   ],
   "source": [
    "numReg = re.compile(r'\\d+') # \\d+ denotes one or more single digits number. Therefore it will find\n",
    "                            # these pattern in string\n",
    "\n",
    "mo = numReg.sub('X', '11 drummers, 10 pipers, five rings, 4 hen')\n",
    "\n",
    "# sub method is used to:-\n",
    "# 1] search the string mentioned in its second argument for the pattern mentioned in re.compile()\n",
    "# 2] Replace the pattern with string mentioned in the first argument\n",
    "print(mo)\n"
   ]
  },
  {
   "cell_type": "markdown",
   "id": "d37f2e60",
   "metadata": {},
   "source": [
    "<b>19. What does passing re.VERBOSE as the 2nd argument to re.compile() allow to do?"
   ]
  },
  {
   "cell_type": "markdown",
   "id": "ad952ef8",
   "metadata": {},
   "source": [
    "It lets us add whitespace and comments to the string which makes it more readable"
   ]
  },
  {
   "cell_type": "code",
   "execution_count": 65,
   "id": "94187865",
   "metadata": {},
   "outputs": [
    {
     "name": "stdout",
     "output_type": "stream",
     "text": [
      "['0_', '15', '0a']\n"
     ]
    }
   ],
   "source": [
    "numReg = re.compile(r'''\n",
    "\n",
    "                    \\d    #single digits\n",
    "                    \\w    #alphanumeric and underscore\n",
    "\n",
    "                    ''',re.VERBOSE) \n",
    "\n",
    "mo = numReg.findall(r'0_ 15as 0a')\n",
    "\n",
    "print(mo)"
   ]
  },
  {
   "cell_type": "markdown",
   "id": "6985a582",
   "metadata": {},
   "source": [
    "<b>20. How would you write a regex that match a number with comma for every three digits? It must match the given following:"
   ]
  },
  {
   "cell_type": "markdown",
   "id": "d51953a5",
   "metadata": {},
   "source": [
    "<b>'42'"
   ]
  },
  {
   "cell_type": "markdown",
   "id": "a208457c",
   "metadata": {},
   "source": [
    "<b>'1,234'"
   ]
  },
  {
   "cell_type": "markdown",
   "id": "2f5f276b",
   "metadata": {},
   "source": [
    "<b>'6,368,745'"
   ]
  },
  {
   "cell_type": "markdown",
   "id": "4e3a682b",
   "metadata": {},
   "source": [
    "<b>but not the following:"
   ]
  },
  {
   "cell_type": "markdown",
   "id": "5b6da1b9",
   "metadata": {},
   "source": [
    "<b>'12,34,567' (which has only two digits between the commas)"
   ]
  },
  {
   "cell_type": "markdown",
   "id": "9aa1892d",
   "metadata": {},
   "source": [
    "<b>'1234' (which lacks commas)"
   ]
  },
  {
   "cell_type": "code",
   "execution_count": 79,
   "id": "c873f14a",
   "metadata": {},
   "outputs": [
    {
     "name": "stdout",
     "output_type": "stream",
     "text": [
      "1,234\n"
     ]
    }
   ],
   "source": [
    "import re\n",
    "\n",
    "regex = re.compile(r'^\\d{1,3}(,\\d{3})*$')\n",
    "\n",
    "mo =regex.search('1,234')\n",
    "\n",
    "print(mo.group())"
   ]
  },
  {
   "cell_type": "markdown",
   "id": "62395db9",
   "metadata": {},
   "source": [
    "<b>21. How would you write a regex that matches the full name of someone whose last name is Watanabe? You can assume that the first name that comes before it will always be one word that begins with a capital letter. The regex must match the following:"
   ]
  },
  {
   "cell_type": "markdown",
   "id": "c22ddcd6",
   "metadata": {},
   "source": [
    "<b>'Haruto Watanabe'"
   ]
  },
  {
   "cell_type": "markdown",
   "id": "2d34ffe5",
   "metadata": {},
   "source": [
    "<b>'Alice Watanabe'"
   ]
  },
  {
   "cell_type": "markdown",
   "id": "72f77ae9",
   "metadata": {},
   "source": [
    "<b>'RoboCop Watanabe'"
   ]
  },
  {
   "cell_type": "markdown",
   "id": "c554baf2",
   "metadata": {},
   "source": [
    "<b>but not the following:"
   ]
  },
  {
   "cell_type": "markdown",
   "id": "1b39a144",
   "metadata": {},
   "source": [
    "<b>'haruto Watanabe' (where the first name is not capitalized)"
   ]
  },
  {
   "cell_type": "markdown",
   "id": "f50c0da6",
   "metadata": {},
   "source": [
    "<b>'Mr. Watanabe' (where the preceding word has a nonletter character)"
   ]
  },
  {
   "cell_type": "markdown",
   "id": "a43b0e89",
   "metadata": {},
   "source": [
    "<b>'Watanabe' (which has no first name)"
   ]
  },
  {
   "cell_type": "markdown",
   "id": "8b3956b1",
   "metadata": {},
   "source": [
    "<b>'Haruto watanabe' (where Watanabe is not capitalized)"
   ]
  },
  {
   "cell_type": "code",
   "execution_count": 123,
   "id": "a409050f",
   "metadata": {},
   "outputs": [
    {
     "name": "stdout",
     "output_type": "stream",
     "text": [
      "RoboCop Watanabe\n"
     ]
    }
   ],
   "source": [
    "import re\n",
    "\n",
    "regex = re.compile(r'[A-Z][a-zA-Z]*\\s(Watanabe)')\n",
    "\n",
    "mo =regex.search('RoboCop Watanabe')\n",
    "\n",
    "print(mo.group())"
   ]
  },
  {
   "cell_type": "markdown",
   "id": "e8de9724",
   "metadata": {},
   "source": [
    "<b>22. How would you write a regex that matches a sentence where the first word is either Alice, Bob, or Carol; the second word is either eats, pets, or throws; the third word is apples, cats, or baseballs; and the sentence ends with a period? This regex should be case-insensitive. It must match the following:"
   ]
  },
  {
   "cell_type": "markdown",
   "id": "bf1bc543",
   "metadata": {},
   "source": [
    "<b>'Alice eats apples.'"
   ]
  },
  {
   "cell_type": "markdown",
   "id": "0dc40df4",
   "metadata": {},
   "source": [
    "<b>'Bob pets cats.'"
   ]
  },
  {
   "cell_type": "markdown",
   "id": "ec5fcef9",
   "metadata": {},
   "source": [
    "<b>'Carol throws baseballs.'"
   ]
  },
  {
   "cell_type": "markdown",
   "id": "e61191f6",
   "metadata": {},
   "source": [
    "<b>'Alice throws Apples.'"
   ]
  },
  {
   "cell_type": "markdown",
   "id": "a302b042",
   "metadata": {},
   "source": [
    "<b>'BOB EATS CATS.'"
   ]
  },
  {
   "cell_type": "markdown",
   "id": "2b9a7838",
   "metadata": {},
   "source": [
    "<b>but not the following:"
   ]
  },
  {
   "cell_type": "markdown",
   "id": "b0d9a54c",
   "metadata": {},
   "source": [
    "<b>'RoboCop eats apples.'"
   ]
  },
  {
   "cell_type": "markdown",
   "id": "c62684df",
   "metadata": {},
   "source": [
    "<b>'ALICE THROWS FOOTBALLS.'"
   ]
  },
  {
   "cell_type": "markdown",
   "id": "648a7691",
   "metadata": {},
   "source": [
    "<b>'Carol eats 7 cats.'"
   ]
  },
  {
   "cell_type": "code",
   "execution_count": 127,
   "id": "d363a451",
   "metadata": {},
   "outputs": [
    {
     "name": "stdout",
     "output_type": "stream",
     "text": [
      "Alice eats apples.\n"
     ]
    }
   ],
   "source": [
    "import re\n",
    "\n",
    "regex = re.compile(r'(Alice|Bob|Carol)\\s(eats|pets|throws)\\s(apples|cats|baseball).$',re.I)\n",
    "\n",
    "mo =regex.search('Alice eats apples.')\n",
    "\n",
    "print(mo.group())"
   ]
  }
 ],
 "metadata": {
  "kernelspec": {
   "display_name": "Python 3 (ipykernel)",
   "language": "python",
   "name": "python3"
  },
  "language_info": {
   "codemirror_mode": {
    "name": "ipython",
    "version": 3
   },
   "file_extension": ".py",
   "mimetype": "text/x-python",
   "name": "python",
   "nbconvert_exporter": "python",
   "pygments_lexer": "ipython3",
   "version": "3.9.7"
  }
 },
 "nbformat": 4,
 "nbformat_minor": 5
}
