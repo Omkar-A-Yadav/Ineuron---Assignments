{
 "cells": [
  {
   "cell_type": "markdown",
   "id": "48b3e0a0",
   "metadata": {},
   "source": [
    "# Assignment 13"
   ]
  },
  {
   "cell_type": "markdown",
   "id": "3a429095",
   "metadata": {},
   "source": [
    "<b>1. What advantages do Excel spreadsheets have over CSV spreadsheets?"
   ]
  },
  {
   "cell_type": "markdown",
   "id": "14745789",
   "metadata": {},
   "source": [
    "1. Values are not restricted to string data type\n",
    "\n",
    "2. Different styles can be added to cells like color, font , highlights etc\n",
    "\n",
    "3. charts , images can be pasted in cells\n",
    "\n",
    "4. cells can have varying heights and widths\n",
    "\n",
    "5. Multiple worksheets are present"
   ]
  },
  {
   "cell_type": "markdown",
   "id": "0e4080b1",
   "metadata": {},
   "source": [
    "<b>2.What do you pass to csv.reader() and csv.writer() to create reader and writer objects?"
   ]
  },
  {
   "cell_type": "markdown",
   "id": "93f37daf",
   "metadata": {},
   "source": [
    "We have to pass a file object from open()"
   ]
  },
  {
   "cell_type": "markdown",
   "id": "1ad7ce32",
   "metadata": {},
   "source": [
    "import csv\n",
    "\n",
    "file = open(\"Book1.csv\")\n",
    "\n",
    "fileReader = csv.reader(file)\n",
    "\n",
    "fileWriter =csv.writer(file)"
   ]
  },
  {
   "cell_type": "markdown",
   "id": "d1016530",
   "metadata": {},
   "source": [
    "<b>3. What modes do File objects for reader and writer objects need to be opened in?"
   ]
  },
  {
   "cell_type": "markdown",
   "id": "69c04462",
   "metadata": {},
   "source": [
    "read binary \"rb\" for reader objects and write binary \"wb\" for writer objects"
   ]
  },
  {
   "cell_type": "markdown",
   "id": "a652e374",
   "metadata": {},
   "source": [
    "<b>4. What method takes a list argument and writes it to a CSV file?"
   ]
  },
  {
   "cell_type": "markdown",
   "id": "5aaa25fb",
   "metadata": {},
   "source": [
    "file = open(\"Book1.csv\",\"w\")\n",
    "\n",
    "fileWriter = csv.writer(file)\n",
    "\n",
    "\n",
    "\"writerow() method is used to take list as an argument and write it to CSV file\"\n",
    "\n",
    "fileWriter.writerow(['a','b','c']) \n",
    "\n",
    "\n",
    "file.close()"
   ]
  },
  {
   "cell_type": "markdown",
   "id": "1e245117",
   "metadata": {},
   "source": [
    "<b>5. What do the keyword arguments delimiter and line terminator do?"
   ]
  },
  {
   "cell_type": "markdown",
   "id": "3e01bb2a",
   "metadata": {},
   "source": [
    "'''CSV is comma separated values, i.e values are sep based on comma but if we want to \n",
    "sep values based on any other character we can do that with help of delimiter keyword.\n",
    "\n",
    "and line terminator keyword will change the string needed to separate rows '''\n",
    "\n",
    "import csv\n",
    "\n",
    "\n",
    "file = open(\"Book1.tsv\",\"w\",newline=\"\")\n",
    "\n",
    "fileWriter = csv.writer(file, delimiter = \"\\t\", lineterminator = '\\n\\n' )\n",
    "\n",
    "fileWriter.writerow(['a','b'])\n",
    "\n",
    "fileWriter.writerow(['c','d'])\n",
    "\n",
    "file.close()"
   ]
  },
  {
   "cell_type": "markdown",
   "id": "2818a080",
   "metadata": {},
   "source": [
    "<b>6. What function takes a string of JSON data and returns a Python data structure?"
   ]
  },
  {
   "cell_type": "markdown",
   "id": "74d3dffe",
   "metadata": {},
   "source": [
    "json.loads()"
   ]
  },
  {
   "cell_type": "markdown",
   "id": "63aac643",
   "metadata": {},
   "source": [
    "<b>7. What function takes a Python data structure and returns a string of JSON data?"
   ]
  },
  {
   "cell_type": "markdown",
   "id": "9d65ea21",
   "metadata": {},
   "source": [
    "json.dumps()"
   ]
  }
 ],
 "metadata": {
  "kernelspec": {
   "display_name": "Python 3 (ipykernel)",
   "language": "python",
   "name": "python3"
  },
  "language_info": {
   "codemirror_mode": {
    "name": "ipython",
    "version": 3
   },
   "file_extension": ".py",
   "mimetype": "text/x-python",
   "name": "python",
   "nbconvert_exporter": "python",
   "pygments_lexer": "ipython3",
   "version": "3.9.7"
  }
 },
 "nbformat": 4,
 "nbformat_minor": 5
}
