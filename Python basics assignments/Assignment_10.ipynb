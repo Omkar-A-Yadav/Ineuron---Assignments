{
 "cells": [
  {
   "cell_type": "markdown",
   "id": "47cdd30f",
   "metadata": {},
   "source": [
    "# Assignment 10"
   ]
  },
  {
   "cell_type": "markdown",
   "id": "fae48ea3",
   "metadata": {},
   "source": [
    "<b>1. How do you distinguish between shutil.copy() and shutil.copytree()?"
   ]
  },
  {
   "cell_type": "markdown",
   "id": "dbba829e",
   "metadata": {},
   "source": [
    "shutil.copy() copies only a single file whereas shutil.copytree() copies entire folder with its contents"
   ]
  },
  {
   "cell_type": "markdown",
   "id": "21e5bca5",
   "metadata": {},
   "source": [
    "<b>2. What function is used to rename files??"
   ]
  },
  {
   "cell_type": "markdown",
   "id": "d6707d39",
   "metadata": {},
   "source": [
    "shutil.move() can be used for moving and renaming files\n",
    "\n",
    "shutil.move(\"source\\\\ filename\" ,\"destination\\\\new_name\")\n",
    "\n",
    "suppose there is file named 'abc.txt' we want to move it  in a folder named 'new_folder'\n",
    "\n",
    "shutil.move(\"C:\\\\ abc.txt\",\"C:\\\\ new_folder \\\\ abc_copy.txt\") \n",
    "\n"
   ]
  },
  {
   "cell_type": "markdown",
   "id": "e922245e",
   "metadata": {},
   "source": [
    "<b>3. What is the difference between the delete functions in the send2trash and shutil modules?"
   ]
  },
  {
   "cell_type": "markdown",
   "id": "b449908b",
   "metadata": {},
   "source": [
    "Delete function in send2trash puts the file or folder in the recyle bin while shutil functions permanently deletes the files"
   ]
  },
  {
   "cell_type": "markdown",
   "id": "0746b675",
   "metadata": {},
   "source": [
    "<b>4.ZipFile objects have a close() method just like File objects’ close() method. What ZipFile method is equivalent to File objects’ open() method?"
   ]
  },
  {
   "cell_type": "markdown",
   "id": "69a000a9",
   "metadata": {},
   "source": [
    "zipfile.ZipFile()"
   ]
  },
  {
   "cell_type": "markdown",
   "id": "51803c9f",
   "metadata": {},
   "source": [
    "<b>5. Create a programme that searches a folder tree for files with a certain file extension (such as .pdf or .jpg). Copy these files from whatever location they are in to a new folder."
   ]
  },
  {
   "cell_type": "code",
   "execution_count": 32,
   "id": "846c9578",
   "metadata": {},
   "outputs": [],
   "source": [
    "import os,shutil\n",
    "\n",
    "from pathlib import Path\n",
    "\n",
    "def copy_to_new_folder(source,destination,ext):\n",
    "    ''' Source :- Path FROM where we have to copy  files \n",
    "        destination:- Path wehre we have TO copy files\n",
    "        ext :- Type of files i.e \".pdf\" , \" .jpg\" etc '''\n",
    "    \n",
    "    for folders , subfolders , files in os.walk(source): \n",
    "        \n",
    "# os.walk() takes a string of the path and returns three values (if used in a loop)\n",
    "\n",
    "#a string folder' name \n",
    "#a list of strings of subfolders in the current folder\n",
    "#lsit of strings of files in the current folder\n",
    "        \n",
    "        \n",
    "        for file in files:\n",
    "\n",
    "#This loop iterates through files in folder and subfolders\n",
    "                        \n",
    "                \n",
    "                    if ext in file :\n",
    "                \n",
    "# This checks for file with specified extension\n",
    "                \n",
    "                        p = Path(folders)  \n",
    "        \n",
    "# Since os.walk() doesnt change the current working directory we have to store the string for the file location. This is done\n",
    "# by using \"folders\" variable in the current problem which has the string location for current folder\n",
    "\n",
    "                        shutil.copy(p/ file, destination)  \n",
    "    \n",
    "# shutile.copy() is used to copy the  file from its current location to the desried location                 \n",
    "    "
   ]
  },
  {
   "cell_type": "markdown",
   "id": "187079e6",
   "metadata": {},
   "source": [
    "<b>"
   ]
  }
 ],
 "metadata": {
  "kernelspec": {
   "display_name": "Python 3 (ipykernel)",
   "language": "python",
   "name": "python3"
  },
  "language_info": {
   "codemirror_mode": {
    "name": "ipython",
    "version": 3
   },
   "file_extension": ".py",
   "mimetype": "text/x-python",
   "name": "python",
   "nbconvert_exporter": "python",
   "pygments_lexer": "ipython3",
   "version": "3.9.7"
  }
 },
 "nbformat": 4,
 "nbformat_minor": 5
}
