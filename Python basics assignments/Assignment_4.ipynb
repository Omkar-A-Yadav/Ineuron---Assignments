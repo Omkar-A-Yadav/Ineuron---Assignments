{
 "cells": [
  {
   "cell_type": "markdown",
   "id": "2242b7a9",
   "metadata": {},
   "source": [
    "# Assignment 4"
   ]
  },
  {
   "cell_type": "markdown",
   "id": "bd4d37a0",
   "metadata": {},
   "source": [
    "<b>1. What exactly is []?"
   ]
  },
  {
   "cell_type": "markdown",
   "id": "efa88840",
   "metadata": {},
   "source": [
    "[] this denotes an empty list"
   ]
  },
  {
   "cell_type": "markdown",
   "id": "26be6353",
   "metadata": {},
   "source": [
    "<b>2. In a list of values stored in a variable called spam, how would you assign the value 'hello' as the third value? (Assume [2, 4, 6, 8, 10] are in spam.)"
   ]
  },
  {
   "cell_type": "code",
   "execution_count": 2,
   "id": "147a4404",
   "metadata": {},
   "outputs": [
    {
     "name": "stdout",
     "output_type": "stream",
     "text": [
      "[2, 4, 'hello', 8, 10]\n"
     ]
    }
   ],
   "source": [
    "spam = [2,4,6,8,10]\n",
    "\n",
    "spam[2] = 'hello'\n",
    "\n",
    "print(spam)"
   ]
  },
  {
   "cell_type": "markdown",
   "id": "74699492",
   "metadata": {},
   "source": [
    "<b>Let's pretend the spam includes the list ['a', 'b', 'c', 'd'] for the next three queries."
   ]
  },
  {
   "cell_type": "markdown",
   "id": "4fa22b1d",
   "metadata": {},
   "source": [
    "<b>3. What is the value of spam[int(int('3' * 2) / 11)]?"
   ]
  },
  {
   "cell_type": "code",
   "execution_count": 6,
   "id": "75007ca9",
   "metadata": {},
   "outputs": [
    {
     "data": {
      "text/plain": [
       "'d'"
      ]
     },
     "execution_count": 6,
     "metadata": {},
     "output_type": "execute_result"
    }
   ],
   "source": [
    "spam = ['a','b','c','d']\n",
    "spam[int(int('3' * 2) / 11)]\n",
    "\n",
    "# '3'*2 ----- '33'\n",
    "\n",
    "#int('33')---- 33  \n",
    "\n",
    "#33/11---------3.33333\n",
    "\n",
    "#int(33/11) ----3\n",
    "\n",
    "#spam[3]-------d\n"
   ]
  },
  {
   "cell_type": "markdown",
   "id": "9102c170",
   "metadata": {},
   "source": [
    "<b>4. What is the value of spam[-1]?"
   ]
  },
  {
   "cell_type": "code",
   "execution_count": 9,
   "id": "693574b4",
   "metadata": {},
   "outputs": [
    {
     "data": {
      "text/plain": [
       "'d'"
      ]
     },
     "execution_count": 9,
     "metadata": {},
     "output_type": "execute_result"
    }
   ],
   "source": [
    "spam[-1] \n",
    "\n",
    "#in a list last item has index of -1. second last as -2 and so on..."
   ]
  },
  {
   "cell_type": "markdown",
   "id": "811beb0f",
   "metadata": {},
   "source": [
    "<b>5. What is the value of spam[:2]?"
   ]
  },
  {
   "cell_type": "code",
   "execution_count": 11,
   "id": "18176695",
   "metadata": {},
   "outputs": [
    {
     "data": {
      "text/plain": [
       "['a', 'b']"
      ]
     },
     "execution_count": 11,
     "metadata": {},
     "output_type": "execute_result"
    }
   ],
   "source": [
    "spam[:2] # it gives a list starting from its zeroth index to (2-1) = 1 index"
   ]
  },
  {
   "cell_type": "markdown",
   "id": "f0d088fa",
   "metadata": {},
   "source": [
    "<b>Let's pretend bacon has the list [3.14, 'cat,' 11, 'cat,' True] for the next three questions."
   ]
  },
  {
   "cell_type": "markdown",
   "id": "f1fa166a",
   "metadata": {},
   "source": [
    "<b>6. What is the value of bacon.index('cat')?"
   ]
  },
  {
   "cell_type": "code",
   "execution_count": 13,
   "id": "3f815caf",
   "metadata": {},
   "outputs": [
    {
     "data": {
      "text/plain": [
       "1"
      ]
     },
     "execution_count": 13,
     "metadata": {},
     "output_type": "execute_result"
    }
   ],
   "source": [
    "bacon = [3.14,'cat',11,'cat',True]\n",
    "\n",
    "bacon.index(\"cat\")  #return the first index of string 'cat' from the list."
   ]
  },
  {
   "cell_type": "markdown",
   "id": "f4b8a0f6",
   "metadata": {},
   "source": [
    "<b>7. How does bacon.append(99) change the look of the list value in bacon?"
   ]
  },
  {
   "cell_type": "code",
   "execution_count": 16,
   "id": "56017014",
   "metadata": {},
   "outputs": [
    {
     "name": "stdout",
     "output_type": "stream",
     "text": [
      "[3.14, 'cat', 11, 'cat', True, 99]\n"
     ]
    }
   ],
   "source": [
    "bacon = [3.14,'cat',11,'cat',True] \n",
    "\n",
    "bacon.append(99) # adds 99 at the end of the list\n",
    "\n",
    "print(bacon)"
   ]
  },
  {
   "cell_type": "markdown",
   "id": "d8c9f00e",
   "metadata": {},
   "source": [
    "<b>8. How does bacon.remove('cat') change the look of the list in bacon?"
   ]
  },
  {
   "cell_type": "code",
   "execution_count": 18,
   "id": "30ee0269",
   "metadata": {},
   "outputs": [
    {
     "name": "stdout",
     "output_type": "stream",
     "text": [
      "[3.14, 11, 'cat', True, 99]\n"
     ]
    }
   ],
   "source": [
    "bacon = [3.14, 'cat', 11, 'cat', True, 99]\n",
    "\n",
    "bacon.remove('cat')  #removes first occurence of 'cat' from list\n",
    "\n",
    "print(bacon)"
   ]
  },
  {
   "cell_type": "markdown",
   "id": "a3a78586",
   "metadata": {},
   "source": [
    "<b>9. What are the list concatenation and list replication operators?"
   ]
  },
  {
   "cell_type": "code",
   "execution_count": 20,
   "id": "e7aefc5c",
   "metadata": {},
   "outputs": [
    {
     "name": "stdout",
     "output_type": "stream",
     "text": [
      "[1]\n",
      "[1, 2, 3]\n"
     ]
    }
   ],
   "source": [
    "#  +  is the concatenation operator\n",
    "\n",
    "l1 = [] \n",
    "l2 = [1]\n",
    "\n",
    "l3 = l1+l2 \n",
    "\n",
    "l4 = l3 + [2,3]\n",
    "\n",
    "print(l3)\n",
    "\n",
    "print(l4)"
   ]
  },
  {
   "cell_type": "code",
   "execution_count": 23,
   "id": "c365b7e3",
   "metadata": {},
   "outputs": [
    {
     "name": "stdout",
     "output_type": "stream",
     "text": [
      "[1, 2, 3, 1, 2, 3, 1, 2, 3]\n"
     ]
    }
   ],
   "source": [
    "#  *  is the list replication operator\n",
    "\n",
    "l5 = [1,2,3]\n",
    "\n",
    "l6 = l5*3\n",
    "\n",
    "print(l6)\n"
   ]
  },
  {
   "cell_type": "markdown",
   "id": "d3d0d789",
   "metadata": {},
   "source": [
    "<b>10. What is difference between the list methods append() and insert()?"
   ]
  },
  {
   "cell_type": "code",
   "execution_count": 24,
   "id": "db9ee6f2",
   "metadata": {},
   "outputs": [
    {
     "name": "stdout",
     "output_type": "stream",
     "text": [
      "[1, 2, 3, 'appends only at the end of list']\n",
      "['insert at zero index', 1, 2, 3, 'appends only at the end of list']\n",
      "['insert at zero index', 'insert at first index', 1, 2, 3, 'appends only at the end of list']\n"
     ]
    }
   ],
   "source": [
    "l = [1,2,3]\n",
    "\n",
    "l.append(\"appends only at the end of list\")  #append operation adds value at the end of the list\n",
    "\n",
    "print(l)\n",
    "\n",
    "#while insert can add value at any index in the list\n",
    "\n",
    "l.insert(0,\"insert at zero index\")\n",
    "\n",
    "print(l)\n",
    "\n",
    "l.insert(1,\"insert at first index\")\n",
    "\n",
    "print(l)"
   ]
  },
  {
   "cell_type": "markdown",
   "id": "b1fd37ff",
   "metadata": {},
   "source": [
    "<b>11. What are the two methods for removing items from a list?"
   ]
  },
  {
   "cell_type": "code",
   "execution_count": 25,
   "id": "f00fb666",
   "metadata": {},
   "outputs": [
    {
     "name": "stdout",
     "output_type": "stream",
     "text": [
      "[2, 3]\n",
      "[2]\n"
     ]
    }
   ],
   "source": [
    "l = [1,2,3]\n",
    "\n",
    "l.remove(1) # removes the specified value from the list\n",
    "\n",
    "print(l)\n",
    "\n",
    "l.pop() # removes only the last value from the list\n",
    "\n",
    "print(l)"
   ]
  },
  {
   "cell_type": "markdown",
   "id": "032b304d",
   "metadata": {},
   "source": [
    "<b>12. Describe how list values and string values are identical."
   ]
  },
  {
   "cell_type": "code",
   "execution_count": 28,
   "id": "a583e249",
   "metadata": {},
   "outputs": [],
   "source": [
    "ls = [1,2,3]\n",
    "\n",
    "st = 'abc'\n"
   ]
  },
  {
   "cell_type": "code",
   "execution_count": 33,
   "id": "623f2125",
   "metadata": {},
   "outputs": [
    {
     "name": "stdout",
     "output_type": "stream",
     "text": [
      "this is from list 1\n",
      "this is from list 2\n",
      "this is from list 3\n",
      "this is from string 1\n",
      "this is from string 2\n",
      "this is from string 3\n"
     ]
    }
   ],
   "source": [
    "# both list and strings are iterable\n",
    "\n",
    "for i in ls:\n",
    "    print(\"this is from list\",i)\n",
    "\n",
    "for i in ls:\n",
    "    print(\"this is from string\",i)\n",
    "    "
   ]
  },
  {
   "cell_type": "code",
   "execution_count": 35,
   "id": "ecd5e4d9",
   "metadata": {},
   "outputs": [
    {
     "name": "stdout",
     "output_type": "stream",
     "text": [
      "1\n",
      "a\n"
     ]
    }
   ],
   "source": [
    "#both list and string are subscriptable and slicing operations can be performed\n",
    "\n",
    "print(ls[0])\n",
    "\n",
    "print(st[0])\n"
   ]
  },
  {
   "cell_type": "code",
   "execution_count": 38,
   "id": "7806e200",
   "metadata": {},
   "outputs": [
    {
     "name": "stdout",
     "output_type": "stream",
     "text": [
      "False\n"
     ]
    }
   ],
   "source": [
    "#in and not in keywords can be used for both\n",
    "\n",
    "if 1 in ls and '1' in st:\n",
    "    print(True)\n",
    "if 0 not in ls and '0' not in st:\n",
    "    print(False)"
   ]
  },
  {
   "cell_type": "markdown",
   "id": "1599964f",
   "metadata": {},
   "source": [
    "<b>13. What's the difference between tuples and lists?"
   ]
  },
  {
   "cell_type": "markdown",
   "id": "46eb75b8",
   "metadata": {},
   "source": [
    "List are mutable but tuples are immutable"
   ]
  },
  {
   "cell_type": "markdown",
   "id": "bfa27a9e",
   "metadata": {},
   "source": [
    "<b>14. How do you type a tuple value that only contains the integer 42?"
   ]
  },
  {
   "cell_type": "code",
   "execution_count": 41,
   "id": "e208886a",
   "metadata": {},
   "outputs": [
    {
     "name": "stdout",
     "output_type": "stream",
     "text": [
      "<class 'tuple'>\n"
     ]
    }
   ],
   "source": [
    "a =(42,)\n",
    "\n",
    "print(type(a))"
   ]
  },
  {
   "cell_type": "markdown",
   "id": "7de3947d",
   "metadata": {},
   "source": [
    "<b>15. How do you get a list value's tuple form? How do you get a tuple value's list form?"
   ]
  },
  {
   "cell_type": "code",
   "execution_count": 42,
   "id": "5e5a9ce2",
   "metadata": {},
   "outputs": [
    {
     "name": "stdout",
     "output_type": "stream",
     "text": [
      "<class 'list'>\n"
     ]
    }
   ],
   "source": [
    "l = [1,2]\n",
    "tuple(l)  #converts list to tuple\n",
    "\n",
    "print(type(l))"
   ]
  },
  {
   "cell_type": "code",
   "execution_count": 44,
   "id": "4d03d21e",
   "metadata": {},
   "outputs": [
    {
     "name": "stdout",
     "output_type": "stream",
     "text": [
      "<class 'tuple'>\n"
     ]
    }
   ],
   "source": [
    "l = (1,2)\n",
    "tuple(l)  #converts tuple to list\n",
    "\n",
    "print(type(l))"
   ]
  },
  {
   "cell_type": "markdown",
   "id": "05583608",
   "metadata": {},
   "source": [
    "<b>16. Variables that \"contain\" list values are not necessarily lists themselves. Instead, what do they contain?"
   ]
  },
  {
   "cell_type": "code",
   "execution_count": 47,
   "id": "dea78ba4",
   "metadata": {},
   "outputs": [
    {
     "name": "stdout",
     "output_type": "stream",
     "text": [
      "[2, 3, 4]\n",
      "this is list 'a'  ['value change in list a', 3, 4]\n",
      "this is list 'b'  ['value change in list a', 3, 4]\n"
     ]
    }
   ],
   "source": [
    "l = [2,3,4]\n",
    "\n",
    "a = l\n",
    "\n",
    "print(a)\n",
    "\n",
    "a[0] = \"value change in list a\"\n",
    "\n",
    "print(\"this is list 'a' \",a)\n",
    "\n",
    "print(\"this is list 'b' \", l)"
   ]
  },
  {
   "cell_type": "markdown",
   "id": "0adf0c59",
   "metadata": {},
   "source": [
    "Form above example we can see that variable 'a' was changed but 'l' is also changed.\n",
    "\n",
    "When list l was assigned to variable a , the references of the list l were copied , not the list values .\n",
    "\n",
    "Python does this for all mutable objects\n",
    "\n",
    "\n"
   ]
  },
  {
   "cell_type": "markdown",
   "id": "b8dd3919",
   "metadata": {},
   "source": [
    "<b>17. How do you distinguish between copy.copy() and copy.deepcopy()?"
   ]
  },
  {
   "cell_type": "markdown",
   "id": "e4d2504f",
   "metadata": {},
   "source": [
    "copy.copy() is used to assign / copy the values in a list to a variable"
   ]
  },
  {
   "cell_type": "code",
   "execution_count": 50,
   "id": "0e022776",
   "metadata": {
    "scrolled": true
   },
   "outputs": [
    {
     "name": "stdout",
     "output_type": "stream",
     "text": [
      "['new item', 2, 3]\n",
      "[1, 2, 3]\n"
     ]
    }
   ],
   "source": [
    "#example for copy.cooy\n",
    "\n",
    "import copy\n",
    "\n",
    "l = [1,2,3]\n",
    "\n",
    "n =copy.copy(l)\n",
    "\n",
    "n[0] = 'new item'\n",
    "\n",
    "print(n)\n",
    "\n",
    "print(l)\n",
    "\n",
    "#we can see from output that both the lists are different as the actual list values were copied"
   ]
  },
  {
   "cell_type": "code",
   "execution_count": 55,
   "id": "23a60943",
   "metadata": {},
   "outputs": [
    {
     "name": "stdout",
     "output_type": "stream",
     "text": [
      "['new item', 2, 3, ['new item in nested list', 2, 3]]\n",
      "[1, 2, 3, ['new item in nested list', 2, 3]]\n"
     ]
    }
   ],
   "source": [
    "#copy.copy() fails to copy when nested list are used \n",
    "\n",
    "l = [1,2,3,[1,2,3]]\n",
    "\n",
    "n =copy.copy(l)\n",
    "\n",
    "n[0] = \"new item\"\n",
    "n[3][0] = 'new item in nested list'\n",
    "\n",
    "print(n)\n",
    "\n",
    "print(l)"
   ]
  },
  {
   "cell_type": "markdown",
   "id": "af505d4d",
   "metadata": {},
   "source": [
    "<b>"
   ]
  },
  {
   "cell_type": "code",
   "execution_count": 56,
   "id": "b48af8a5",
   "metadata": {},
   "outputs": [
    {
     "name": "stdout",
     "output_type": "stream",
     "text": [
      "['new item', 2, 3, ['new item in nested list', 2, 3]]\n",
      "[1, 2, 3, [1, 2, 3]]\n"
     ]
    }
   ],
   "source": [
    "#copy.deepcopy() copies the original values from a nested list \n",
    "\n",
    "l = [1,2,3,[1,2,3]]\n",
    "\n",
    "n =copy.deepcopy(l)\n",
    "\n",
    "n[0] = \"new item\"\n",
    "n[3][0] = 'new item in nested list'\n",
    "\n",
    "print(n)\n",
    "\n",
    "print(l)\n"
   ]
  }
 ],
 "metadata": {
  "kernelspec": {
   "display_name": "Python 3 (ipykernel)",
   "language": "python",
   "name": "python3"
  },
  "language_info": {
   "codemirror_mode": {
    "name": "ipython",
    "version": 3
   },
   "file_extension": ".py",
   "mimetype": "text/x-python",
   "name": "python",
   "nbconvert_exporter": "python",
   "pygments_lexer": "ipython3",
   "version": "3.9.7"
  }
 },
 "nbformat": 4,
 "nbformat_minor": 5
}
