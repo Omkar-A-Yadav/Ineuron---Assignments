{
 "cells": [
  {
   "cell_type": "markdown",
   "id": "59872852",
   "metadata": {},
   "source": [
    "# Assignment 3"
   ]
  },
  {
   "cell_type": "markdown",
   "id": "92df8eb3",
   "metadata": {},
   "source": [
    "<b>1. Why are functions advantageous to have in your programs?"
   ]
  },
  {
   "cell_type": "markdown",
   "id": "6464b205",
   "metadata": {},
   "source": [
    "<b>Ans:\n",
    "\n",
    "Functions help to reduce repetitive lines of code form a program. Thus decreasing code length and making it easier to read\n",
    "    \n",
    "    \n",
    "    "
   ]
  },
  {
   "cell_type": "markdown",
   "id": "f39db92b",
   "metadata": {},
   "source": [
    "<b>2. When does the code in a function run: when it's specified or when it's called?"
   ]
  },
  {
   "cell_type": "markdown",
   "id": "57420cb4",
   "metadata": {},
   "source": [
    "<b>Ans:-\n",
    "\n",
    "When function is \"called\" the code in function is executed."
   ]
  },
  {
   "cell_type": "markdown",
   "id": "9096bf1a",
   "metadata": {},
   "source": [
    "<b>3. What statement creates a function?"
   ]
  },
  {
   "cell_type": "code",
   "execution_count": 4,
   "id": "e317284a",
   "metadata": {},
   "outputs": [],
   "source": [
    "def func():  # this statement creates a function . Key word \"def\" followed by any name you want\n",
    "    pass\n",
    "\n",
    "# we can take arguments in a function:-\n",
    "\n",
    "def func1(a,b):\n",
    "    pass\n",
    "\n",
    "# we can provide a docstring which helps the user to understand what this particular function does\n",
    "\n",
    "def func2(a,b):\n",
    "    '''This is a doctsrting'''\n",
    "    pass\n",
    "\n",
    "#when we call a function in our program we most of times expect to get something in return from the fucntion for that \n",
    "#we can specify a keyword return\n",
    "\n",
    "def fun3(a,b):\n",
    "    '''This function returns sum of a and b variables'''\n",
    "    return a+b  "
   ]
  },
  {
   "cell_type": "markdown",
   "id": "a168694b",
   "metadata": {},
   "source": [
    "<b>4. What is the difference between a function and a function call?"
   ]
  },
  {
   "cell_type": "markdown",
   "id": "98d72697",
   "metadata": {},
   "source": [
    "Ans:-\n",
    "    \n",
    "Function is when we define a function which stores a set of code which is to be executed.\n",
    "\n",
    "Function call is when we use this function to do a specific task for us."
   ]
  },
  {
   "cell_type": "code",
   "execution_count": 5,
   "id": "6f26ac59",
   "metadata": {},
   "outputs": [],
   "source": [
    "#This is a Function:-\n",
    "\n",
    "def funct(a,b):\n",
    "    return a+b"
   ]
  },
  {
   "cell_type": "code",
   "execution_count": 6,
   "id": "364b769b",
   "metadata": {},
   "outputs": [
    {
     "data": {
      "text/plain": [
       "7"
      ]
     },
     "execution_count": 6,
     "metadata": {},
     "output_type": "execute_result"
    }
   ],
   "source": [
    "#This is a function call\n",
    "funct(3,4)"
   ]
  },
  {
   "cell_type": "markdown",
   "id": "6de5a449",
   "metadata": {},
   "source": [
    "<b>5. How many global scopes are there in a Python program? How many local scopes?"
   ]
  },
  {
   "cell_type": "markdown",
   "id": "eab35a97",
   "metadata": {},
   "source": [
    "<b> Ans:-\n",
    "    \n",
    "There is one global scope the main body of program and local scope depends on the number of functions created."
   ]
  },
  {
   "cell_type": "markdown",
   "id": "390097ba",
   "metadata": {},
   "source": [
    "<b>6. What happens to variables in a local scope when the function call returns?"
   ]
  },
  {
   "cell_type": "markdown",
   "id": "5eee16ce",
   "metadata": {},
   "source": [
    "<b>Ans:-\n",
    "\n",
    "The variables in local scope are destroyed when function call is returned"
   ]
  },
  {
   "cell_type": "markdown",
   "id": "c48d0702",
   "metadata": {},
   "source": [
    "<b>7. What is the concept of a return value? Is it possible to have a return value in an expression?"
   ]
  },
  {
   "cell_type": "markdown",
   "id": "055191b3",
   "metadata": {},
   "source": [
    "Return value is the value evaluated by a function call. A \"return\" keyeword is used at the end of a function definition and any expression or value can be used against it. \n",
    "\n",
    "Yes, return values can be used in  expressions"
   ]
  },
  {
   "cell_type": "code",
   "execution_count": 2,
   "id": "0bd1dde9",
   "metadata": {},
   "outputs": [
    {
     "name": "stdout",
     "output_type": "stream",
     "text": [
      "10\n"
     ]
    }
   ],
   "source": [
    "def func4(a):\n",
    "    return a # this function returns value in a when it is called\n",
    "\n",
    "return_value = func4(5) # function is called and is stored in variable named return_value\n",
    "\n",
    "print(5 + return_value) # here return value is used in an expression and value is printed"
   ]
  },
  {
   "cell_type": "markdown",
   "id": "07581604",
   "metadata": {},
   "source": [
    "<b>8. If a function does not have a return statement, what is the return value of a call to that function?"
   ]
  },
  {
   "cell_type": "markdown",
   "id": "77ab17dd",
   "metadata": {},
   "source": [
    "\"None\" is the return value of call to a function having no return statement"
   ]
  },
  {
   "cell_type": "code",
   "execution_count": 7,
   "id": "e3208d8f",
   "metadata": {},
   "outputs": [
    {
     "name": "stdout",
     "output_type": "stream",
     "text": [
      "None\n"
     ]
    }
   ],
   "source": [
    "def func5(a):\n",
    "    a+5\n",
    "    \n",
    "b = func5(5)\n",
    "\n",
    "print(b)\n",
    "\n"
   ]
  },
  {
   "cell_type": "markdown",
   "id": "9364bf4c",
   "metadata": {},
   "source": [
    "<b>9. How do you make a function variable refer to the global variable?"
   ]
  },
  {
   "cell_type": "markdown",
   "id": "0161d422",
   "metadata": {},
   "source": [
    "We can use global keyword to make global variables accessible in a function"
   ]
  },
  {
   "cell_type": "code",
   "execution_count": 13,
   "id": "575bc0e4",
   "metadata": {},
   "outputs": [
    {
     "name": "stdout",
     "output_type": "stream",
     "text": [
      "30\n"
     ]
    }
   ],
   "source": [
    "x = 25 #global variable\n",
    "\n",
    "def func5():\n",
    "    global x\n",
    "    return x+5\n",
    "    \n",
    "print(func5())\n",
    "\n",
    "\n",
    "    "
   ]
  },
  {
   "cell_type": "markdown",
   "id": "77f8ad5d",
   "metadata": {},
   "source": [
    "<b>10. What is the data type of None?"
   ]
  },
  {
   "cell_type": "code",
   "execution_count": 9,
   "id": "e4406bf8",
   "metadata": {},
   "outputs": [
    {
     "data": {
      "text/plain": [
       "NoneType"
      ]
     },
     "execution_count": 9,
     "metadata": {},
     "output_type": "execute_result"
    }
   ],
   "source": [
    "#data type of None is NoneType\n",
    "type(None)"
   ]
  },
  {
   "cell_type": "markdown",
   "id": "c0443215",
   "metadata": {},
   "source": [
    "<b>11. What does the sentence import areallyourpetsnamederic do?"
   ]
  },
  {
   "cell_type": "markdown",
   "id": "0b56fa33",
   "metadata": {},
   "source": [
    "This statement imports a module named areallyourpetsnamederic"
   ]
  },
  {
   "cell_type": "markdown",
   "id": "913ac136",
   "metadata": {},
   "source": [
    "<b>12. If you had a bacon() feature in a spam module, what would you call it after importing spam?"
   ]
  },
  {
   "cell_type": "markdown",
   "id": "01eeea79",
   "metadata": {},
   "source": [
    "spam.bacon()"
   ]
  },
  {
   "cell_type": "markdown",
   "id": "2765c715",
   "metadata": {},
   "source": [
    "<b>13. What can you do to save a programme from crashing if it encounters an error?"
   ]
  },
  {
   "cell_type": "markdown",
   "id": "470e3739",
   "metadata": {},
   "source": [
    "<b>Ans:-\n",
    "    \n",
    "Runt-time errors can crash a program , to handle them we can place the suspicious code lines in a try and except block"
   ]
  },
  {
   "cell_type": "code",
   "execution_count": 15,
   "id": "ec7b4a81",
   "metadata": {},
   "outputs": [
    {
     "name": "stdout",
     "output_type": "stream",
     "text": [
      "division by zero\n"
     ]
    }
   ],
   "source": [
    "try:\n",
    "    5/0 # the code will fail as division by zero will give infinity\n",
    "except Exception as e: \n",
    "    print(e)"
   ]
  },
  {
   "cell_type": "markdown",
   "id": "61d8ecde",
   "metadata": {},
   "source": [
    "<b>14. What is the purpose of the try clause? What is the purpose of the except clause?"
   ]
  },
  {
   "cell_type": "code",
   "execution_count": 16,
   "id": "d4497743",
   "metadata": {},
   "outputs": [
    {
     "name": "stdout",
     "output_type": "stream",
     "text": [
      "can only concatenate str (not \"int\") to str\n"
     ]
    }
   ],
   "source": [
    "try:\n",
    "    \"abs\" + 5  # a suspicious code is placed inside a try block which may rail during run-time. \n",
    "    \n",
    "except Exception as e: #except clause is activated when program encounters a run-time error. If no errors\n",
    "                        # occur this block is ignored. This particular except block takes the error and \n",
    "                        #prints it for the user. In a code wihtout try except clause the code below the error \n",
    "                        #is not executed but with these blocks those statements can also get executed.\n",
    "    print(e)"
   ]
  }
 ],
 "metadata": {
  "kernelspec": {
   "display_name": "Python 3 (ipykernel)",
   "language": "python",
   "name": "python3"
  },
  "language_info": {
   "codemirror_mode": {
    "name": "ipython",
    "version": 3
   },
   "file_extension": ".py",
   "mimetype": "text/x-python",
   "name": "python",
   "nbconvert_exporter": "python",
   "pygments_lexer": "ipython3",
   "version": "3.9.7"
  }
 },
 "nbformat": 4,
 "nbformat_minor": 5
}
