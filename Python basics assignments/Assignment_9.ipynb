{
 "cells": [
  {
   "cell_type": "markdown",
   "id": "edc16a97",
   "metadata": {},
   "source": [
    "# Assignment 9"
   ]
  },
  {
   "cell_type": "markdown",
   "id": "da5b0e38",
   "metadata": {},
   "source": [
    "<b>1. To what does a relative path refer?"
   ]
  },
  {
   "cell_type": "markdown",
   "id": "ef6e17d8",
   "metadata": {},
   "source": [
    "They refer to the current working directory"
   ]
  },
  {
   "cell_type": "markdown",
   "id": "69dbac6f",
   "metadata": {},
   "source": [
    "<b>2. What does an absolute path start with your operating system?"
   ]
  },
  {
   "cell_type": "markdown",
   "id": "b2a2fffd",
   "metadata": {},
   "source": [
    "My operating system is windows and it starts with my root folder, C:"
   ]
  },
  {
   "cell_type": "markdown",
   "id": "40759956",
   "metadata": {},
   "source": [
    "<b>3. What do the functions os.getcwd() and os.chdir() do?"
   ]
  },
  {
   "cell_type": "code",
   "execution_count": null,
   "id": "920b7747",
   "metadata": {},
   "outputs": [],
   "source": [
    "#os.getcwd() gets the current working directory\n",
    "\n",
    "#os.chdir() # changes the current working directory"
   ]
  },
  {
   "cell_type": "markdown",
   "id": "3f7f862d",
   "metadata": {},
   "source": [
    "<b>4. What are the . and .. folders?"
   ]
  },
  {
   "cell_type": "markdown",
   "id": "f1878e2b",
   "metadata": {},
   "source": [
    ". is used to represent current folder/directory  and .. is for parent folder/directory"
   ]
  },
  {
   "cell_type": "markdown",
   "id": "6a7611d4",
   "metadata": {},
   "source": [
    "<b>5. In C:\\bacon\\eggs\\spam.txt, which part is the dir name, and which part is the base name?"
   ]
  },
  {
   "cell_type": "markdown",
   "id": "bfa2bd03",
   "metadata": {},
   "source": [
    "base name = spam.txt\n",
    "\n",
    "directory name = C:\\bacon\\eggs"
   ]
  },
  {
   "cell_type": "code",
   "execution_count": 7,
   "id": "d2421e03",
   "metadata": {},
   "outputs": [
    {
     "name": "stdout",
     "output_type": "stream",
     "text": [
      "spam.txt\n",
      "C:\\bacon\\eggs\n"
     ]
    }
   ],
   "source": [
    "from pathlib import Path\n",
    "\n",
    "import os\n",
    "\n",
    "p = \"C:\\\\bacon\\\\eggs\\\\spam.txt\"\n",
    "\n",
    "print(os.path.basename(p))\n",
    "\n",
    "print(os.path.dirname(p))"
   ]
  },
  {
   "cell_type": "markdown",
   "id": "f250a8cc",
   "metadata": {},
   "source": [
    "<b>6. What are the three “mode” arguments that can be passed to the open() function?"
   ]
  },
  {
   "cell_type": "markdown",
   "id": "cf3b68f3",
   "metadata": {},
   "source": [
    " read mode represented by \"r\" it is the default mode for open() with this we can only read files\n",
    "\n",
    " write mode represented by \"w\" it opens an existing file and overwrites or creates a file if it doesnt exsit\n",
    "\n",
    " append mode represented by 'a' it opens and existing file and writes at the end of the file or creates a new file if it   doesnt exist\n"
   ]
  },
  {
   "cell_type": "markdown",
   "id": "3dbb6892",
   "metadata": {},
   "source": [
    "<b>7. What happens if an existing file is opened in write mode?"
   ]
  },
  {
   "cell_type": "markdown",
   "id": "3ac04138",
   "metadata": {},
   "source": [
    "write mode overwites the contents of the file as the cursor is positioned at the start of the file"
   ]
  },
  {
   "cell_type": "markdown",
   "id": "928dea4d",
   "metadata": {},
   "source": [
    "<b>8. How do you tell the difference between read() and readlines()?"
   ]
  },
  {
   "cell_type": "markdown",
   "id": "850bb63b",
   "metadata": {},
   "source": [
    "read() creates a single string of the entire file and readlines() creates a list of strings seperated by newline character"
   ]
  },
  {
   "cell_type": "markdown",
   "id": "6ace6b65",
   "metadata": {},
   "source": [
    "<b>9. What data structure does a shelf value resemble?"
   ]
  },
  {
   "cell_type": "markdown",
   "id": "add35d9d",
   "metadata": {},
   "source": [
    "It represents a dictionay"
   ]
  },
  {
   "cell_type": "markdown",
   "id": "926603c5",
   "metadata": {},
   "source": [
    "<b>"
   ]
  }
 ],
 "metadata": {
  "kernelspec": {
   "display_name": "Python 3 (ipykernel)",
   "language": "python",
   "name": "python3"
  },
  "language_info": {
   "codemirror_mode": {
    "name": "ipython",
    "version": 3
   },
   "file_extension": ".py",
   "mimetype": "text/x-python",
   "name": "python",
   "nbconvert_exporter": "python",
   "pygments_lexer": "ipython3",
   "version": "3.9.7"
  }
 },
 "nbformat": 4,
 "nbformat_minor": 5
}
