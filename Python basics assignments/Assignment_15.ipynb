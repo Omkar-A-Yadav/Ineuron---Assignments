{
 "cells": [
  {
   "cell_type": "markdown",
   "id": "95480362",
   "metadata": {},
   "source": [
    "<b>1.How many seconds are in an hour? Use the interactive interpreter as a calculator and multiply the number of seconds in a minute (60) by the number of minutes in an hour (also 60)."
   ]
  },
  {
   "cell_type": "code",
   "execution_count": 2,
   "id": "762439aa",
   "metadata": {},
   "outputs": [
    {
     "data": {
      "text/plain": [
       "3600"
      ]
     },
     "execution_count": 2,
     "metadata": {},
     "output_type": "execute_result"
    }
   ],
   "source": [
    "60*60"
   ]
  },
  {
   "cell_type": "markdown",
   "id": "765d596e",
   "metadata": {},
   "source": [
    "<b>2. Assign the result from the previous task (seconds in an hour) to a variable called seconds_per_hour."
   ]
  },
  {
   "cell_type": "code",
   "execution_count": 3,
   "id": "203bd1cf",
   "metadata": {},
   "outputs": [],
   "source": [
    "seconds_per_hour = 60*60"
   ]
  },
  {
   "cell_type": "markdown",
   "id": "63814348",
   "metadata": {},
   "source": [
    "<b>3. How many seconds do you think there are in a day? Make use of the variables seconds per hour and minutes per hour."
   ]
  },
  {
   "cell_type": "code",
   "execution_count": 7,
   "id": "beb38934",
   "metadata": {},
   "outputs": [
    {
     "data": {
      "text/plain": [
       "86400"
      ]
     },
     "execution_count": 7,
     "metadata": {},
     "output_type": "execute_result"
    }
   ],
   "source": [
    "minutes_per_hour = 60\n",
    "\n",
    "seconds_per_hour* 24"
   ]
  },
  {
   "cell_type": "markdown",
   "id": "35ed12c5",
   "metadata": {},
   "source": [
    "<b>4. Calculate seconds per day again, but this time save the result in a variable called seconds_per_day"
   ]
  },
  {
   "cell_type": "code",
   "execution_count": 8,
   "id": "c2a924ba",
   "metadata": {},
   "outputs": [],
   "source": [
    "seconds_per_day = 24* seconds_per_hour"
   ]
  },
  {
   "cell_type": "markdown",
   "id": "58a3401b",
   "metadata": {},
   "source": [
    "<b>5. Divide seconds_per_day by seconds_per_hour. Use floating-point (/) division."
   ]
  },
  {
   "cell_type": "code",
   "execution_count": 9,
   "id": "a3ac39a0",
   "metadata": {},
   "outputs": [
    {
     "data": {
      "text/plain": [
       "24.0"
      ]
     },
     "execution_count": 9,
     "metadata": {},
     "output_type": "execute_result"
    }
   ],
   "source": [
    "seconds_per_day/seconds_per_hour"
   ]
  },
  {
   "cell_type": "markdown",
   "id": "98736f05",
   "metadata": {},
   "source": [
    "<b>6. Divide seconds_per_day by seconds_per_hour, using integer (//) division. Did this number agree with the floating-point value from the previous question, aside from the final .0?"
   ]
  },
  {
   "cell_type": "code",
   "execution_count": 10,
   "id": "873b60d7",
   "metadata": {
    "scrolled": true
   },
   "outputs": [
    {
     "data": {
      "text/plain": [
       "24"
      ]
     },
     "execution_count": 10,
     "metadata": {},
     "output_type": "execute_result"
    }
   ],
   "source": [
    "seconds_per_day//seconds_per_hour"
   ]
  },
  {
   "cell_type": "markdown",
   "id": "12eed798",
   "metadata": {},
   "source": [
    "yes the number matches apart from .0"
   ]
  },
  {
   "cell_type": "markdown",
   "id": "9ba550f6",
   "metadata": {},
   "source": [
    "<b>7. Write a generator, genPrimes, that returns the sequence of prime numbers on successive calls to its next() method: 2, 3, 5, 7, 11, ..."
   ]
  },
  {
   "cell_type": "code",
   "execution_count": 54,
   "id": "32bdb380",
   "metadata": {},
   "outputs": [],
   "source": [
    "def factors(n):\n",
    "    l = [i for i in range(1,n+1) if n%i == 0]\n",
    "    return l\n",
    "\n",
    "def genPrimes(n):\n",
    "    for i in range(1,n+1):\n",
    "        if len(factors(i)) == 2:\n",
    "            yield i\n",
    "    "
   ]
  },
  {
   "cell_type": "code",
   "execution_count": 55,
   "id": "dc457a93",
   "metadata": {},
   "outputs": [],
   "source": [
    "gen = genPrimes(12)"
   ]
  },
  {
   "cell_type": "code",
   "execution_count": 56,
   "id": "7b722008",
   "metadata": {},
   "outputs": [
    {
     "data": {
      "text/plain": [
       "generator"
      ]
     },
     "execution_count": 56,
     "metadata": {},
     "output_type": "execute_result"
    }
   ],
   "source": [
    "type(gen) # generator object "
   ]
  },
  {
   "cell_type": "code",
   "execution_count": 57,
   "id": "63354c1b",
   "metadata": {},
   "outputs": [
    {
     "name": "stdout",
     "output_type": "stream",
     "text": [
      "2\n",
      "3\n",
      "5\n",
      "7\n",
      "11\n"
     ]
    }
   ],
   "source": [
    "for i in gen:\n",
    "    print(i)"
   ]
  }
 ],
 "metadata": {
  "kernelspec": {
   "display_name": "Python 3 (ipykernel)",
   "language": "python",
   "name": "python3"
  },
  "language_info": {
   "codemirror_mode": {
    "name": "ipython",
    "version": 3
   },
   "file_extension": ".py",
   "mimetype": "text/x-python",
   "name": "python",
   "nbconvert_exporter": "python",
   "pygments_lexer": "ipython3",
   "version": "3.9.7"
  }
 },
 "nbformat": 4,
 "nbformat_minor": 5
}
