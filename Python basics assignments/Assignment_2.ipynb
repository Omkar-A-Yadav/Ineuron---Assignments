{
 "cells": [
  {
   "cell_type": "markdown",
   "id": "b1eac068",
   "metadata": {},
   "source": [
    "# Assignment 2"
   ]
  },
  {
   "cell_type": "markdown",
   "id": "c6c96015",
   "metadata": {},
   "source": [
    "<b>Q1].What are the two values of the Boolean data type? How do you write them?"
   ]
  },
  {
   "cell_type": "markdown",
   "id": "7e730cec",
   "metadata": {},
   "source": [
    "The values of the Boolean data type are True and False. They are written as follows"
   ]
  },
  {
   "cell_type": "code",
   "execution_count": 1,
   "id": "d9a8f369",
   "metadata": {},
   "outputs": [
    {
     "data": {
      "text/plain": [
       "True"
      ]
     },
     "execution_count": 1,
     "metadata": {},
     "output_type": "execute_result"
    }
   ],
   "source": [
    "True"
   ]
  },
  {
   "cell_type": "code",
   "execution_count": 2,
   "id": "727fe43f",
   "metadata": {},
   "outputs": [
    {
     "data": {
      "text/plain": [
       "False"
      ]
     },
     "execution_count": 2,
     "metadata": {},
     "output_type": "execute_result"
    }
   ],
   "source": [
    "False"
   ]
  },
  {
   "cell_type": "markdown",
   "id": "c036b3d1",
   "metadata": {},
   "source": [
    "<b>Q2]. What are the three different types of Boolean operators?"
   ]
  },
  {
   "cell_type": "markdown",
   "id": "c698fb13",
   "metadata": {},
   "source": [
    "and \n",
    "\n",
    "or\n",
    "\n",
    "not"
   ]
  },
  {
   "cell_type": "code",
   "execution_count": 7,
   "id": "4a98f53d",
   "metadata": {},
   "outputs": [
    {
     "data": {
      "text/plain": [
       "False"
      ]
     },
     "execution_count": 7,
     "metadata": {},
     "output_type": "execute_result"
    }
   ],
   "source": [
    "True and False "
   ]
  },
  {
   "cell_type": "code",
   "execution_count": 8,
   "id": "324ef381",
   "metadata": {},
   "outputs": [
    {
     "data": {
      "text/plain": [
       "1"
      ]
     },
     "execution_count": 8,
     "metadata": {},
     "output_type": "execute_result"
    }
   ],
   "source": [
    "1 or 0  "
   ]
  },
  {
   "cell_type": "code",
   "execution_count": 62,
   "id": "5f781e59",
   "metadata": {},
   "outputs": [
    {
     "data": {
      "text/plain": [
       "False"
      ]
     },
     "execution_count": 62,
     "metadata": {},
     "output_type": "execute_result"
    }
   ],
   "source": [
    "not True"
   ]
  },
  {
   "cell_type": "markdown",
   "id": "e40e936a",
   "metadata": {},
   "source": [
    "<b>Q3] Make a list of each Boolean operator&#39;s truth tables (i.e. every possible combination of Boolean\n",
    "values for the operator and what it evaluate )."
   ]
  },
  {
   "cell_type": "markdown",
   "id": "da942b7a",
   "metadata": {},
   "source": [
    "and:-\n",
    "\n",
    "1 and 1 =  1\n",
    "\n",
    "1 and 0 =  0\n",
    "\n",
    "0 and 1 =  0\n",
    "\n",
    "0 and 0 =  0\n",
    "\n",
    "or:-\n",
    "\n",
    "1 or 1 =  1\n",
    "\n",
    "1 or 0 =  1\n",
    "\n",
    "0 or 1 =  1\n",
    "\n",
    "0 or 0 =  0\n",
    "\n",
    "not:-\n",
    "\n",
    "1 not = 0 \n",
    "\n",
    "0 not = 1\n"
   ]
  },
  {
   "cell_type": "markdown",
   "id": "3f904cf0",
   "metadata": {},
   "source": [
    "<b>Q4]. What are the values of the following expressions?"
   ]
  },
  {
   "cell_type": "code",
   "execution_count": 20,
   "id": "93e95202",
   "metadata": {},
   "outputs": [
    {
     "data": {
      "text/plain": [
       "False"
      ]
     },
     "execution_count": 20,
     "metadata": {},
     "output_type": "execute_result"
    }
   ],
   "source": [
    "(5 > 4) and (3 == 5)"
   ]
  },
  {
   "cell_type": "code",
   "execution_count": 21,
   "id": "255e1756",
   "metadata": {},
   "outputs": [
    {
     "data": {
      "text/plain": [
       "False"
      ]
     },
     "execution_count": 21,
     "metadata": {},
     "output_type": "execute_result"
    }
   ],
   "source": [
    "not (5 > 4)"
   ]
  },
  {
   "cell_type": "code",
   "execution_count": 23,
   "id": "72e9b741",
   "metadata": {},
   "outputs": [
    {
     "data": {
      "text/plain": [
       "True"
      ]
     },
     "execution_count": 23,
     "metadata": {},
     "output_type": "execute_result"
    }
   ],
   "source": [
    "(5 > 4) or (3 == 5)"
   ]
  },
  {
   "cell_type": "code",
   "execution_count": 24,
   "id": "acd0a332",
   "metadata": {},
   "outputs": [
    {
     "data": {
      "text/plain": [
       "False"
      ]
     },
     "execution_count": 24,
     "metadata": {},
     "output_type": "execute_result"
    }
   ],
   "source": [
    "not ((5 > 4) or (3 == 5))"
   ]
  },
  {
   "cell_type": "code",
   "execution_count": 25,
   "id": "beb6d401",
   "metadata": {},
   "outputs": [
    {
     "data": {
      "text/plain": [
       "False"
      ]
     },
     "execution_count": 25,
     "metadata": {},
     "output_type": "execute_result"
    }
   ],
   "source": [
    "(True and True) and (True == False)"
   ]
  },
  {
   "cell_type": "code",
   "execution_count": 26,
   "id": "69e6fb70",
   "metadata": {},
   "outputs": [
    {
     "data": {
      "text/plain": [
       "True"
      ]
     },
     "execution_count": 26,
     "metadata": {},
     "output_type": "execute_result"
    }
   ],
   "source": [
    "(not False) or (not True)"
   ]
  },
  {
   "cell_type": "markdown",
   "id": "455ac3d5",
   "metadata": {},
   "source": [
    "<b>Q5]. What are the six comparison operators?"
   ]
  },
  {
   "cell_type": "markdown",
   "id": "46c68e97",
   "metadata": {},
   "source": [
    "<b>Ans:-"
   ]
  },
  {
   "cell_type": "code",
   "execution_count": 31,
   "id": "31e927e8",
   "metadata": {},
   "outputs": [
    {
     "data": {
      "text/plain": [
       "True"
      ]
     },
     "execution_count": 31,
     "metadata": {},
     "output_type": "execute_result"
    }
   ],
   "source": [
    "#1)\n",
    "5 > 3 # > greater than  "
   ]
  },
  {
   "cell_type": "code",
   "execution_count": 28,
   "id": "b2fb6ce2",
   "metadata": {},
   "outputs": [
    {
     "data": {
      "text/plain": [
       "False"
      ]
     },
     "execution_count": 28,
     "metadata": {},
     "output_type": "execute_result"
    }
   ],
   "source": [
    "#2)\n",
    "5 < 3 # less than"
   ]
  },
  {
   "cell_type": "code",
   "execution_count": 29,
   "id": "04e0fede",
   "metadata": {},
   "outputs": [
    {
     "data": {
      "text/plain": [
       "False"
      ]
     },
     "execution_count": 29,
     "metadata": {},
     "output_type": "execute_result"
    }
   ],
   "source": [
    "#3)\n",
    "5 == 3 # equal to"
   ]
  },
  {
   "cell_type": "code",
   "execution_count": 30,
   "id": "40df5436",
   "metadata": {},
   "outputs": [
    {
     "data": {
      "text/plain": [
       "True"
      ]
     },
     "execution_count": 30,
     "metadata": {},
     "output_type": "execute_result"
    }
   ],
   "source": [
    "#4)\n",
    "5 >= 3 # greater than equal to"
   ]
  },
  {
   "cell_type": "code",
   "execution_count": 32,
   "id": "e19645e8",
   "metadata": {},
   "outputs": [
    {
     "data": {
      "text/plain": [
       "False"
      ]
     },
     "execution_count": 32,
     "metadata": {},
     "output_type": "execute_result"
    }
   ],
   "source": [
    "#5)\n",
    "\n",
    "5 <= 3 #less than equal to"
   ]
  },
  {
   "cell_type": "code",
   "execution_count": 34,
   "id": "527d9519",
   "metadata": {},
   "outputs": [
    {
     "data": {
      "text/plain": [
       "True"
      ]
     },
     "execution_count": 34,
     "metadata": {},
     "output_type": "execute_result"
    }
   ],
   "source": [
    "#6)\n",
    "\n",
    "5 != 3 #not equal to"
   ]
  },
  {
   "cell_type": "markdown",
   "id": "98320615",
   "metadata": {},
   "source": [
    "<b>Q6]. How do you tell the difference between the equal to and assignment operators?Describe a\n",
    "condition and when you would use one."
   ]
  },
  {
   "cell_type": "markdown",
   "id": "9db81d02",
   "metadata": {},
   "source": [
    "==  is the equal to operator\n",
    "\n",
    "= is the assignment operator"
   ]
  },
  {
   "cell_type": "code",
   "execution_count": 40,
   "id": "8c3578ba",
   "metadata": {},
   "outputs": [
    {
     "name": "stdout",
     "output_type": "stream",
     "text": [
      "True\n"
     ]
    }
   ],
   "source": [
    "a = 3 # assignment operator\n",
    "\n",
    "b = 3 # assignment operator\n",
    "\n",
    "if a == b: #equal to operator\n",
    "    print(True)"
   ]
  },
  {
   "cell_type": "markdown",
   "id": "57f9d547",
   "metadata": {},
   "source": [
    "<b>Q7]. Identify the three blocks in this code:\n",
    "    \n",
    "spam = 0\n",
    "    \n",
    "if spam == 10:\n",
    "    \n",
    "print(&#39;eggs&#39;)\n",
    "    \n",
    "if spam &gt; 5:\n",
    "    \n",
    "print(&#39;bacon&#39;)\n",
    "    \n",
    "else:\n",
    "    \n",
    "print(&#39;ham&#39;)\n",
    "    \n",
    "print(&#39;spam&#39;)\n",
    "    \n",
    "print(&#39;spam&#39;)"
   ]
  },
  {
   "cell_type": "code",
   "execution_count": 43,
   "id": "307d55a3",
   "metadata": {},
   "outputs": [
    {
     "name": "stdout",
     "output_type": "stream",
     "text": [
      "ham\n",
      "spam\n",
      "spam\n"
     ]
    }
   ],
   "source": [
    "# First block\n",
    "spam = 0\n",
    "if spam == 10:\n",
    "    print('eggs')\n",
    "    \n",
    "#Second block\n",
    "\n",
    "if spam >5:\n",
    "    print('bacon')\n",
    "else:\n",
    "    print('ham')\n",
    "\n",
    "#Third block\n",
    "\n",
    "print(\"spam\")\n",
    "print(\"spam\")"
   ]
  },
  {
   "cell_type": "markdown",
   "id": "505c6cc9",
   "metadata": {},
   "source": [
    "<b>Q8]. Write code that prints Hello if 1 is stored in spam, prints Howdy if 2 is stored in spam, and prints\n",
    "Greetings! if anything else is stored in spam."
   ]
  },
  {
   "cell_type": "code",
   "execution_count": 44,
   "id": "eddb449a",
   "metadata": {},
   "outputs": [
    {
     "name": "stdout",
     "output_type": "stream",
     "text": [
      "Greetings!\n"
     ]
    }
   ],
   "source": [
    "spam = 0\n",
    "\n",
    "if spam == 1:\n",
    "    print(\"Hello\")\n",
    "elif spam == 2:\n",
    "    print(\"Howdy\")\n",
    "else:\n",
    "    print(\"Greetings!\")"
   ]
  },
  {
   "cell_type": "markdown",
   "id": "dc5b96a5",
   "metadata": {},
   "source": [
    "<b>Q9].If your programme is stuck in an endless loop, what keys you’ll press?"
   ]
  },
  {
   "cell_type": "markdown",
   "id": "1f52a1d4",
   "metadata": {},
   "source": [
    "Ctrl + C"
   ]
  },
  {
   "cell_type": "markdown",
   "id": "98fd1e82",
   "metadata": {},
   "source": [
    "<b> Q10]. How can you tell the difference between break and continue?"
   ]
  },
  {
   "cell_type": "markdown",
   "id": "847e641e",
   "metadata": {},
   "source": [
    "Continue stops the flow of code and returns it back to the loop whereas break stops the loop completely"
   ]
  },
  {
   "cell_type": "code",
   "execution_count": 47,
   "id": "3fcf813d",
   "metadata": {
    "scrolled": true
   },
   "outputs": [
    {
     "name": "stdout",
     "output_type": "stream",
     "text": [
      "0\n",
      "1\n",
      "2\n",
      "4\n"
     ]
    },
    {
     "data": {
      "text/plain": [
       "'here continue stops the flow of code after i takes value of 3 ,\\ntherfore the statement after it doesnt get executed -- we dont see 3 in the output\\nand the flow is returned to the for loop that is why we can see 4 getting printed in the console\\n'"
      ]
     },
     "execution_count": 47,
     "metadata": {},
     "output_type": "execute_result"
    }
   ],
   "source": [
    "# continue example\n",
    "\n",
    "for i in range(5):\n",
    "    if i == 3:\n",
    "        continue\n",
    "    print(i)\n",
    "    \n",
    "'''here continue stops the flow of code after i takes value of 3 ,\n",
    "therfore the statement after it doesnt get executed -- we dont see 3 in the output\n",
    "and the flow is returned to the for loop that is why we can see 4 getting printed in the console\n",
    "'''"
   ]
  },
  {
   "cell_type": "code",
   "execution_count": 48,
   "id": "3b06a3ef",
   "metadata": {},
   "outputs": [
    {
     "name": "stdout",
     "output_type": "stream",
     "text": [
      "0\n",
      "1\n",
      "2\n"
     ]
    },
    {
     "data": {
      "text/plain": [
       "'here break stops the whole loop after i takes value of 3 ,\\nand we dont see any values after 3 in the output\\n'"
      ]
     },
     "execution_count": 48,
     "metadata": {},
     "output_type": "execute_result"
    }
   ],
   "source": [
    "# break example\n",
    "\n",
    "for i in range(5):\n",
    "    if i == 3:\n",
    "        break\n",
    "    print(i)\n",
    "    \n",
    "'''here break stops the whole loop after i takes value of 3 ,\n",
    "and we dont see any values after 3 in the output\n",
    "'''"
   ]
  },
  {
   "cell_type": "markdown",
   "id": "43ea1f67",
   "metadata": {},
   "source": [
    "<b>Q11]. In a for loop, what is the difference between range(10), range(0, 10), and range(0, 10, 1)?"
   ]
  },
  {
   "cell_type": "markdown",
   "id": "91b90950",
   "metadata": {},
   "source": [
    "In a for loop there is no difference in output. As per docstring for range function \n",
    "\n",
    "range(start, stop[, step])\n",
    "\n",
    "it has start, stop and step arguments"
   ]
  },
  {
   "cell_type": "code",
   "execution_count": 51,
   "id": "0aac7727",
   "metadata": {},
   "outputs": [
    {
     "name": "stdout",
     "output_type": "stream",
     "text": [
      "0\n",
      "1\n",
      "2\n",
      "3\n",
      "4\n",
      "5\n",
      "6\n",
      "7\n",
      "8\n",
      "9\n"
     ]
    }
   ],
   "source": [
    "for i in range(10): \n",
    "    print(i)\n",
    "#numbers start from zero and end at 10 -1 i.e 9\n",
    "#here only end value is specified\n",
    "# start value - default is zero"
   ]
  },
  {
   "cell_type": "code",
   "execution_count": 55,
   "id": "ef12cd67",
   "metadata": {
    "scrolled": true
   },
   "outputs": [
    {
     "name": "stdout",
     "output_type": "stream",
     "text": [
      "0\n",
      "1\n",
      "2\n",
      "3\n",
      "4\n",
      "5\n",
      "6\n",
      "7\n",
      "8\n",
      "9\n"
     ]
    }
   ],
   "source": [
    "for i in range(0,10): \n",
    "    print(i)\n",
    "    \n",
    "#numbers start from zero and end at 10 -1 i.e 9 \n",
    "# it is same as range(10)\n",
    "#but we specify the start value and the end value\n",
    "#step value default is 1"
   ]
  },
  {
   "cell_type": "code",
   "execution_count": 56,
   "id": "4e5de4c4",
   "metadata": {},
   "outputs": [
    {
     "name": "stdout",
     "output_type": "stream",
     "text": [
      "0\n",
      "1\n",
      "2\n",
      "3\n",
      "4\n",
      "5\n",
      "6\n",
      "7\n",
      "8\n",
      "9\n"
     ]
    }
   ],
   "source": [
    "for i in range(0,10,1): \n",
    "    print(i)\n",
    "    \n",
    "#numbers start from zero and end at 10 -1 i.e 9 \n",
    "# it is same as range(10) and range(0,10,1)\n",
    "# here we specify start , end and step value"
   ]
  },
  {
   "cell_type": "markdown",
   "id": "99803a6a",
   "metadata": {},
   "source": [
    "<b> Q12]. Write a short program that prints the numbers 1 to 10 using a for loop. Then write an equivalent\n",
    "program that prints the numbers 1 to 10 using a while loop."
   ]
  },
  {
   "cell_type": "code",
   "execution_count": 59,
   "id": "f90d8cbd",
   "metadata": {},
   "outputs": [
    {
     "name": "stdout",
     "output_type": "stream",
     "text": [
      "1\n",
      "2\n",
      "3\n",
      "4\n",
      "5\n",
      "6\n",
      "7\n",
      "8\n",
      "9\n",
      "10\n"
     ]
    }
   ],
   "source": [
    "#for loop\n",
    "\n",
    "for i in range(1,11):\n",
    "    print(i)"
   ]
  },
  {
   "cell_type": "code",
   "execution_count": 61,
   "id": "1d97e6ae",
   "metadata": {},
   "outputs": [
    {
     "name": "stdout",
     "output_type": "stream",
     "text": [
      "1\n",
      "2\n",
      "3\n",
      "4\n",
      "5\n",
      "6\n",
      "7\n",
      "8\n",
      "9\n",
      "10\n"
     ]
    }
   ],
   "source": [
    "#while loop\n",
    "\n",
    "i = 1\n",
    "\n",
    "while i < 11:\n",
    "    print(i)\n",
    "    \n",
    "    i += 1"
   ]
  },
  {
   "cell_type": "markdown",
   "id": "57e1b343",
   "metadata": {},
   "source": [
    "<b>Q13]. If you had a function named bacon() inside a module named spam, how would you call it after\n",
    "importing spam?"
   ]
  },
  {
   "cell_type": "markdown",
   "id": "8f1759d4",
   "metadata": {},
   "source": [
    "import spam\n",
    "\n",
    "spam.bacon() # calling function named bacon() form spam"
   ]
  }
 ],
 "metadata": {
  "kernelspec": {
   "display_name": "Python 3 (ipykernel)",
   "language": "python",
   "name": "python3"
  },
  "language_info": {
   "codemirror_mode": {
    "name": "ipython",
    "version": 3
   },
   "file_extension": ".py",
   "mimetype": "text/x-python",
   "name": "python",
   "nbconvert_exporter": "python",
   "pygments_lexer": "ipython3",
   "version": "3.9.7"
  }
 },
 "nbformat": 4,
 "nbformat_minor": 5
}
