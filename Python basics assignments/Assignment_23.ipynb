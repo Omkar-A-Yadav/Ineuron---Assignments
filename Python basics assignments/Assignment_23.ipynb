{
 "cells": [
  {
   "cell_type": "markdown",
   "id": "398e55d1",
   "metadata": {},
   "source": [
    "# Assignment 23"
   ]
  },
  {
   "cell_type": "markdown",
   "id": "66dad9b8",
   "metadata": {},
   "source": [
    "<b>1. What is the result of the code, and why?"
   ]
  },
  {
   "cell_type": "markdown",
   "id": "7b9091aa",
   "metadata": {},
   "source": [
    "<b>>>> def func(a, b=6, c=8):"
   ]
  },
  {
   "cell_type": "markdown",
   "id": "1e512a0a",
   "metadata": {},
   "source": [
    "<b>print(a, b, c)"
   ]
  },
  {
   "cell_type": "markdown",
   "id": "b10669fc",
   "metadata": {},
   "source": [
    "<b>>>> func(1, 2)"
   ]
  },
  {
   "cell_type": "markdown",
   "id": "72a904b6",
   "metadata": {},
   "source": [
    "The code prints :-\n",
    "\n",
    "1 2 8\n",
    "\n",
    "function has default values for second and third argument as 6 and 8. Therefore when a function is called by giving two arguments. The default value for second argument b=6 is ignored but c = 8 is taken"
   ]
  },
  {
   "cell_type": "code",
   "execution_count": 2,
   "id": "365da1a9",
   "metadata": {},
   "outputs": [
    {
     "name": "stdout",
     "output_type": "stream",
     "text": [
      "1 2 8\n"
     ]
    }
   ],
   "source": [
    "def func(a,b=6,c=8):\n",
    "    \n",
    "    print(a,b,c)\n",
    "\n",
    "func(1,2)"
   ]
  },
  {
   "cell_type": "markdown",
   "id": "beaac35a",
   "metadata": {},
   "source": [
    "<b>2. What is the result of this code, and why?"
   ]
  },
  {
   "cell_type": "markdown",
   "id": "55f6bbbb",
   "metadata": {},
   "source": [
    "<b>>>> def func(a, b, c=5):"
   ]
  },
  {
   "cell_type": "markdown",
   "id": "46150be8",
   "metadata": {},
   "source": [
    "<b>print(a, b, c)"
   ]
  },
  {
   "cell_type": "markdown",
   "id": "029008da",
   "metadata": {},
   "source": [
    "<b>>>> func(1, c=3, b=2)"
   ]
  },
  {
   "cell_type": "markdown",
   "id": "a648e4b3",
   "metadata": {},
   "source": [
    "Result is 1 2 3\n",
    "\n",
    "The reason is value of c and b are assigned specifically in the function call itself. Therefore the position of the arguments in function call dont matter as well as their default values."
   ]
  },
  {
   "cell_type": "code",
   "execution_count": 5,
   "id": "d91f43fc",
   "metadata": {},
   "outputs": [
    {
     "name": "stdout",
     "output_type": "stream",
     "text": [
      "1 2 3\n"
     ]
    }
   ],
   "source": [
    "def func(a,b,c=5):\n",
    "    \n",
    "    print(a,b,c)\n",
    "func(1,c=3,b=2)"
   ]
  },
  {
   "cell_type": "markdown",
   "id": "23ec637a",
   "metadata": {},
   "source": [
    "<b>3. How about this code: what is its result, and why?"
   ]
  },
  {
   "cell_type": "markdown",
   "id": "307ac6b0",
   "metadata": {},
   "source": [
    "<b>>>> def func(a, *pargs):"
   ]
  },
  {
   "cell_type": "markdown",
   "id": "99e60dc2",
   "metadata": {},
   "source": [
    "<b>print(a, pargs)"
   ]
  },
  {
   "cell_type": "markdown",
   "id": "c5bcf31f",
   "metadata": {},
   "source": [
    "<b>>>> func(1, 2, 3)"
   ]
  },
  {
   "cell_type": "markdown",
   "id": "c9ebe9c2",
   "metadata": {},
   "source": [
    "The code prints:-\n",
    "    \n",
    "1 (2,3)\n",
    "\n",
    "The reason is function takes one normal argument and variable number of non-keyword arguments , becuasue * operator is specified before a variable name . *pargs stores the variables in the form of tuple. That is why we get brackets in the ouput after the first value"
   ]
  },
  {
   "cell_type": "code",
   "execution_count": 6,
   "id": "4df096a1",
   "metadata": {},
   "outputs": [
    {
     "name": "stdout",
     "output_type": "stream",
     "text": [
      "1 (2, 3)\n"
     ]
    }
   ],
   "source": [
    "def func(a,*pargs):\n",
    "    print(a,pargs)\n",
    "    \n",
    "func(1,2,3)"
   ]
  },
  {
   "cell_type": "markdown",
   "id": "151bca1b",
   "metadata": {},
   "source": [
    "<b>4. What does this code print, and why?"
   ]
  },
  {
   "cell_type": "markdown",
   "id": "2a405e5e",
   "metadata": {},
   "source": [
    "<b>>>> def func(a, **kargs):"
   ]
  },
  {
   "cell_type": "markdown",
   "id": "eb81a5da",
   "metadata": {},
   "source": [
    "<b>print(a, kargs)"
   ]
  },
  {
   "cell_type": "markdown",
   "id": "01d884f1",
   "metadata": {},
   "source": [
    "<b>>>> func(a=1, c=3, b=2)"
   ]
  },
  {
   "cell_type": "markdown",
   "id": "d5cd9ccd",
   "metadata": {},
   "source": [
    "The code prints : \n",
    "\n",
    "1 {'c': 3, 'b': 2}\n",
    "\n",
    "When two ** operators are mentioned in front of a variable the function can take multiple number of key- word arguments\n",
    "\n",
    "These are stored in form of dictionary in key: value pair. Thats why in output we get a dictionary after the first argument is printed"
   ]
  },
  {
   "cell_type": "code",
   "execution_count": 8,
   "id": "3cf1c030",
   "metadata": {},
   "outputs": [
    {
     "name": "stdout",
     "output_type": "stream",
     "text": [
      "1 {'c': 3, 'b': 2}\n"
     ]
    }
   ],
   "source": [
    "def func(a,**kargs):\n",
    "    print(a,kargs)\n",
    "\n",
    "func(a=1,c=3,b=2)"
   ]
  },
  {
   "cell_type": "markdown",
   "id": "adfefec1",
   "metadata": {},
   "source": [
    "<b>5. What gets printed by this, and explain?"
   ]
  },
  {
   "cell_type": "markdown",
   "id": "6dd89874",
   "metadata": {},
   "source": [
    "<b>>>> def func(a, b, c=8, d=5): print(a, b, c, d)"
   ]
  },
  {
   "cell_type": "markdown",
   "id": "863e7418",
   "metadata": {},
   "source": [
    "<b>>>> func(1, *(5, 6))"
   ]
  },
  {
   "cell_type": "markdown",
   "id": "82cbc245",
   "metadata": {},
   "source": [
    "The code prints:\n",
    "    \n",
    "1 5 6 5\n",
    "\n",
    "The function has 4 values with two of them having default values.\n",
    "\n",
    "Here *args is used in a function call where two values are packed in a tuple with help of * operator\n",
    "\n",
    "Therefore the function takes values for b and c as 5 and 6 from *(5,6) and then default value of d is taken and evrything \n",
    "\n",
    "is printed"
   ]
  },
  {
   "cell_type": "code",
   "execution_count": 17,
   "id": "a0d7afcb",
   "metadata": {},
   "outputs": [
    {
     "name": "stdout",
     "output_type": "stream",
     "text": [
      "1 5 6 5\n"
     ]
    }
   ],
   "source": [
    "def func(a,b,c=8,d=5): print(a,b,c,d)\n",
    "    \n",
    "func(1,*(5,6))"
   ]
  },
  {
   "cell_type": "markdown",
   "id": "286f9afd",
   "metadata": {},
   "source": [
    "<b>6. What is the result of this, and explain?"
   ]
  },
  {
   "cell_type": "markdown",
   "id": "7d2968cb",
   "metadata": {},
   "source": [
    "<b>>>> def func(a, b, c): a = 2; b[0] = 'x'; c['a'] = 'y'"
   ]
  },
  {
   "cell_type": "markdown",
   "id": "337a9d96",
   "metadata": {},
   "source": [
    "<b>>>> l=1; m=[1]; n={'a':0}"
   ]
  },
  {
   "cell_type": "markdown",
   "id": "f56fc8b3",
   "metadata": {},
   "source": [
    "<b>>>> func(l, m, n)"
   ]
  },
  {
   "cell_type": "markdown",
   "id": "8be16e08",
   "metadata": {},
   "source": [
    "<b>>>> l, m, n"
   ]
  },
  {
   "cell_type": "markdown",
   "id": "7c02c10b",
   "metadata": {},
   "source": [
    "The output of code is:\n",
    "\n",
    "\n",
    "(1 , ['x'] , {'a':'y'})\n",
    "\n",
    "* The result is in tuple as variables were seperated by comma\n",
    "* Value of l in global scope is used,  as the value in local scope (a=2) is no longer present after execution of function \n",
    "* The second argument refers to a list and the zeroth index of the list is changed to 'x' therefore this is implicitally a global operation\n",
    "\n",
    "* Same thing happens with dictionay as its value is changed"
   ]
  },
  {
   "cell_type": "code",
   "execution_count": 17,
   "id": "9f671146",
   "metadata": {
    "scrolled": true
   },
   "outputs": [
    {
     "data": {
      "text/plain": [
       "(1, ['x'], {'a': 'y'})"
      ]
     },
     "execution_count": 17,
     "metadata": {},
     "output_type": "execute_result"
    }
   ],
   "source": [
    "def func(a,b,c):\n",
    "    a=2\n",
    "    b[0] = 'x'\n",
    "    c['a'] = 'y'\n",
    " \n",
    "l=1; m=[1]; n={'a':0}\n",
    "\n",
    "func(l, m, n)\n",
    "\n",
    "l,m,n"
   ]
  },
  {
   "cell_type": "markdown",
   "id": "fad1aa49",
   "metadata": {},
   "source": [
    "The above code may seem counter- intuitive as one may think that list and dictionary variables are different than int as local and primary variable logic doesnt apply to them. \n",
    "\n",
    "This is wrong because:-\n",
    "\n",
    "We are actually updating the list and dictionary with index and keys , variable assignment is not done. \n",
    "\n",
    "For example if we do variable assignments for list and dictionary we can see the expected results as shown in below code"
   ]
  },
  {
   "cell_type": "code",
   "execution_count": 16,
   "id": "b218c335",
   "metadata": {},
   "outputs": [
    {
     "data": {
      "text/plain": [
       "(1, [1], {'a': 0})"
      ]
     },
     "execution_count": 16,
     "metadata": {},
     "output_type": "execute_result"
    }
   ],
   "source": [
    "def func(a,b,c):\n",
    "    a=2\n",
    "    m = [2]\n",
    "    n = {'a':1}\n",
    " \n",
    "l=1; m=[1]; n={'a':0}\n",
    "\n",
    "func(l, m, n)\n",
    "\n",
    "l,m,n"
   ]
  }
 ],
 "metadata": {
  "kernelspec": {
   "display_name": "Python 3 (ipykernel)",
   "language": "python",
   "name": "python3"
  },
  "language_info": {
   "codemirror_mode": {
    "name": "ipython",
    "version": 3
   },
   "file_extension": ".py",
   "mimetype": "text/x-python",
   "name": "python",
   "nbconvert_exporter": "python",
   "pygments_lexer": "ipython3",
   "version": "3.9.7"
  }
 },
 "nbformat": 4,
 "nbformat_minor": 5
}
