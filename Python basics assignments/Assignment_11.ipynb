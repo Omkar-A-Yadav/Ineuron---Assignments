{
 "cells": [
  {
   "cell_type": "markdown",
   "id": "f03b268b",
   "metadata": {},
   "source": [
    "# Assignment 11"
   ]
  },
  {
   "cell_type": "markdown",
   "id": "7b2d80a4",
   "metadata": {},
   "source": [
    "<b>1. Create an assert statement that throws an AssertionError if the variable spam is a negative integer."
   ]
  },
  {
   "cell_type": "code",
   "execution_count": 1,
   "id": "81ddd5b1",
   "metadata": {},
   "outputs": [
    {
     "ename": "AssertionError",
     "evalue": "spam is negative",
     "output_type": "error",
     "traceback": [
      "\u001b[1;31m---------------------------------------------------------------------------\u001b[0m",
      "\u001b[1;31mAssertionError\u001b[0m                            Traceback (most recent call last)",
      "\u001b[1;32m~\\AppData\\Local\\Temp/ipykernel_11248/2384841806.py\u001b[0m in \u001b[0;36m<module>\u001b[1;34m\u001b[0m\n\u001b[0;32m      1\u001b[0m \u001b[0mspam\u001b[0m \u001b[1;33m=\u001b[0m \u001b[1;33m-\u001b[0m\u001b[1;36m1\u001b[0m\u001b[1;33m\u001b[0m\u001b[1;33m\u001b[0m\u001b[0m\n\u001b[0;32m      2\u001b[0m \u001b[1;33m\u001b[0m\u001b[0m\n\u001b[1;32m----> 3\u001b[1;33m \u001b[1;32massert\u001b[0m \u001b[0mspam\u001b[0m \u001b[1;33m>=\u001b[0m \u001b[1;36m0\u001b[0m \u001b[1;33m,\u001b[0m \u001b[1;34m\"spam is negative\"\u001b[0m\u001b[1;33m\u001b[0m\u001b[1;33m\u001b[0m\u001b[0m\n\u001b[0m\u001b[0;32m      4\u001b[0m \u001b[1;33m\u001b[0m\u001b[0m\n\u001b[0;32m      5\u001b[0m '''Syntax of assert statement is \n",
      "\u001b[1;31mAssertionError\u001b[0m: spam is negative"
     ]
    }
   ],
   "source": [
    "spam = -1\n",
    "\n",
    "assert spam >= 0 , \"spam is negative\"\n",
    "\n",
    "'''Syntax of assert statement is \n",
    "\n",
    "assert (condition which should not be violated) , 'string , this sets the message for AssertionError which can be seen in the console'\n",
    "\n",
    "where assert is a keyword which gives an assertion error in the console if the condition\n",
    "\n",
    "specified after the assert statement is violated\n",
    "\n",
    "'''"
   ]
  },
  {
   "cell_type": "markdown",
   "id": "7d8e0ec2",
   "metadata": {},
   "source": [
    "<b>2. Write an assert statement that triggers an AssertionError if the variables eggs and bacon contain strings that are the same as each other, even if their cases are different (that is, 'hello' and 'hello' are considered the same, and 'goodbye' and 'GOODbye' are also considered the same)."
   ]
  },
  {
   "cell_type": "code",
   "execution_count": 20,
   "id": "bad9bb6d",
   "metadata": {},
   "outputs": [
    {
     "ename": "AssertionError",
     "evalue": "eggs and bacon are same",
     "output_type": "error",
     "traceback": [
      "\u001b[1;31m---------------------------------------------------------------------------\u001b[0m",
      "\u001b[1;31mAssertionError\u001b[0m                            Traceback (most recent call last)",
      "\u001b[1;32m~\\AppData\\Local\\Temp/ipykernel_8288/929976637.py\u001b[0m in \u001b[0;36m<module>\u001b[1;34m\u001b[0m\n\u001b[0;32m      3\u001b[0m \u001b[0mbacon\u001b[0m \u001b[1;33m=\u001b[0m \u001b[1;34m\"GOODbye\"\u001b[0m\u001b[1;33m\u001b[0m\u001b[1;33m\u001b[0m\u001b[0m\n\u001b[0;32m      4\u001b[0m \u001b[1;33m\u001b[0m\u001b[0m\n\u001b[1;32m----> 5\u001b[1;33m \u001b[1;32massert\u001b[0m \u001b[0meggs\u001b[0m\u001b[1;33m.\u001b[0m\u001b[0mupper\u001b[0m\u001b[1;33m(\u001b[0m\u001b[1;33m)\u001b[0m \u001b[1;33m!=\u001b[0m \u001b[0mbacon\u001b[0m\u001b[1;33m.\u001b[0m\u001b[0mupper\u001b[0m\u001b[1;33m(\u001b[0m\u001b[1;33m)\u001b[0m \u001b[1;33m,\u001b[0m \u001b[1;34m'eggs and bacon are same'\u001b[0m\u001b[1;33m\u001b[0m\u001b[1;33m\u001b[0m\u001b[0m\n\u001b[0m",
      "\u001b[1;31mAssertionError\u001b[0m: eggs and bacon are same"
     ]
    }
   ],
   "source": [
    "eggs = 'goodbye'\n",
    "\n",
    "bacon = \"GOODbye\"\n",
    "\n",
    "assert eggs.upper() != bacon.upper() , 'eggs and bacon are same'"
   ]
  },
  {
   "cell_type": "markdown",
   "id": "c668265f",
   "metadata": {},
   "source": [
    "<b>3. Create an assert statement that throws an AssertionError every time."
   ]
  },
  {
   "cell_type": "code",
   "execution_count": 22,
   "id": "40349ccb",
   "metadata": {},
   "outputs": [
    {
     "ename": "AssertionError",
     "evalue": "",
     "output_type": "error",
     "traceback": [
      "\u001b[1;31m---------------------------------------------------------------------------\u001b[0m",
      "\u001b[1;31mAssertionError\u001b[0m                            Traceback (most recent call last)",
      "\u001b[1;32m~\\AppData\\Local\\Temp/ipykernel_8288/2103537015.py\u001b[0m in \u001b[0;36m<module>\u001b[1;34m\u001b[0m\n\u001b[1;32m----> 1\u001b[1;33m \u001b[1;32massert\u001b[0m \u001b[1;32mFalse\u001b[0m\u001b[1;33m\u001b[0m\u001b[1;33m\u001b[0m\u001b[0m\n\u001b[0m",
      "\u001b[1;31mAssertionError\u001b[0m: "
     ]
    }
   ],
   "source": [
    "assert False"
   ]
  },
  {
   "cell_type": "code",
   "execution_count": 23,
   "id": "feccc2fa",
   "metadata": {},
   "outputs": [
    {
     "ename": "AssertionError",
     "evalue": "",
     "output_type": "error",
     "traceback": [
      "\u001b[1;31m---------------------------------------------------------------------------\u001b[0m",
      "\u001b[1;31mAssertionError\u001b[0m                            Traceback (most recent call last)",
      "\u001b[1;32m~\\AppData\\Local\\Temp/ipykernel_8288/1943011228.py\u001b[0m in \u001b[0;36m<module>\u001b[1;34m\u001b[0m\n\u001b[1;32m----> 1\u001b[1;33m \u001b[1;32massert\u001b[0m \u001b[1;36m1\u001b[0m \u001b[1;33m<\u001b[0m \u001b[1;36m0\u001b[0m\u001b[1;33m\u001b[0m\u001b[1;33m\u001b[0m\u001b[0m\n\u001b[0m",
      "\u001b[1;31mAssertionError\u001b[0m: "
     ]
    }
   ],
   "source": [
    "assert 1 < 0"
   ]
  },
  {
   "cell_type": "markdown",
   "id": "48094070",
   "metadata": {},
   "source": [
    "<b>4. What are the two lines that must be present in your software in order to call logging.debug()?"
   ]
  },
  {
   "cell_type": "code",
   "execution_count": 24,
   "id": "64694721",
   "metadata": {},
   "outputs": [],
   "source": [
    "import logging\n",
    "logging.basicConfig(level=logging.DEBUG, format=' %(asctime)s -%(levelname)s -  %(message)s')"
   ]
  },
  {
   "cell_type": "markdown",
   "id": "c5ae9707",
   "metadata": {},
   "source": [
    "<b>5. What are the two lines that your program must have in order to have logging.debug() send a logging message to a file named programLog.txt?"
   ]
  },
  {
   "cell_type": "code",
   "execution_count": 25,
   "id": "e9a3aeef",
   "metadata": {},
   "outputs": [],
   "source": [
    "import logging\n",
    "logging.basicConfig(filename='programLog.txt',level=logging.DEBUG, format=' %(asctime)s -%(levelname)s -  %(message)s')"
   ]
  },
  {
   "cell_type": "markdown",
   "id": "9fa834eb",
   "metadata": {},
   "source": [
    "<b>6. What are the five levels of logging?"
   ]
  },
  {
   "cell_type": "markdown",
   "id": "1f116cf4",
   "metadata": {},
   "source": [
    "DEBUG \n",
    "\n",
    "INFO\n",
    "\n",
    "WARNING\n",
    "\n",
    "ERROR\n",
    "\n",
    "CRITICAL"
   ]
  },
  {
   "cell_type": "markdown",
   "id": "d3c2f531",
   "metadata": {},
   "source": [
    "<b>7. What line of code would you add to your software to disable all logging messages?"
   ]
  },
  {
   "cell_type": "code",
   "execution_count": 27,
   "id": "c8cff7ca",
   "metadata": {},
   "outputs": [],
   "source": [
    "logging.disable(logging.CRITICAL)\n",
    "# This will disable all logs equal to or less thant CRITICAL level and since CRITICAL is the highest , it will disable all\n",
    "# messages\n",
    "                                "
   ]
  },
  {
   "cell_type": "markdown",
   "id": "7b3925b4",
   "metadata": {},
   "source": [
    "<b>8.Why is using logging messages better than using print() to display the same message?"
   ]
  },
  {
   "cell_type": "markdown",
   "id": "fa86997d",
   "metadata": {},
   "source": [
    "Logging messages can be turned of with single line of code without having to erase the function\n",
    "\n",
    "Messages can be saved in a files with 5 different levels\n",
    "\n",
    "Selective disabling of messages can be done\n",
    "\n",
    "Timestamps can be provided"
   ]
  },
  {
   "cell_type": "markdown",
   "id": "4b27e736",
   "metadata": {},
   "source": [
    "<b>9. What are the differences between the Step Over, Step In, and Step Out buttons in the debugger?"
   ]
  },
  {
   "cell_type": "markdown",
   "id": "2a8dbe5c",
   "metadata": {},
   "source": [
    "Step Over :- Next line of Code is executed is executed and paused. If the next line is a function call , the code in the function is executed at normal speed i.e whithout pausing\n",
    "\n",
    "Step in :- Next line of Code is executed is executed and paused . If the next line is a function call, the code in the function is executed and paused\n",
    "\n",
    "Step out :- While in a function call if we press step out button , it will cause debugger to execute the code at full speed unitl we come out of the function\n"
   ]
  },
  {
   "cell_type": "markdown",
   "id": "e2acbbac",
   "metadata": {},
   "source": [
    "<b>10.After you click Continue, when will the debugger stop ?"
   ]
  },
  {
   "cell_type": "markdown",
   "id": "75767e36",
   "metadata": {},
   "source": [
    "The program will stop either at a breakpoint or if it terminates"
   ]
  },
  {
   "cell_type": "markdown",
   "id": "3e2e917a",
   "metadata": {},
   "source": [
    "<b>11. What is the concept of a breakpoint?"
   ]
  },
  {
   "cell_type": "markdown",
   "id": "7e147143",
   "metadata": {},
   "source": [
    "If Breakpoints are set in a program the debugger will pause at those points"
   ]
  },
  {
   "cell_type": "markdown",
   "id": "cc92ce24",
   "metadata": {},
   "source": [
    "<b>"
   ]
  }
 ],
 "metadata": {
  "kernelspec": {
   "display_name": "Python 3 (ipykernel)",
   "language": "python",
   "name": "python3"
  },
  "language_info": {
   "codemirror_mode": {
    "name": "ipython",
    "version": 3
   },
   "file_extension": ".py",
   "mimetype": "text/x-python",
   "name": "python",
   "nbconvert_exporter": "python",
   "pygments_lexer": "ipython3",
   "version": "3.9.7"
  }
 },
 "nbformat": 4,
 "nbformat_minor": 5
}
