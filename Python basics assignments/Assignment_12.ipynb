{
 "cells": [
  {
   "cell_type": "markdown",
   "id": "71688236",
   "metadata": {},
   "source": [
    "# Assignment 12"
   ]
  },
  {
   "cell_type": "markdown",
   "id": "204618c8",
   "metadata": {},
   "source": [
    "<b>1. In what modes should the PdfFileReader() and PdfFileWriter() File objects will be opened?"
   ]
  },
  {
   "cell_type": "markdown",
   "id": "8bee4980",
   "metadata": {},
   "source": [
    "'rb' --- read binary for PdfFileReader() object \n",
    "\n",
    "'wb'  ------- write binary for PdfFileWriter() object\n",
    "\n",
    "PDF files are binary files. Therefore they cant be read or write like text files"
   ]
  },
  {
   "cell_type": "markdown",
   "id": "9e7ed8f8",
   "metadata": {},
   "source": [
    "<b>2. From a PdfFileReader object, how do you get a Page object for page 5?"
   ]
  },
  {
   "cell_type": "markdown",
   "id": "2d5fb263",
   "metadata": {},
   "source": [
    "import PyPDF2 \n",
    "\n",
    "PdfFile = open(\"File.pdf\",'rb')\n",
    "\n",
    "page = PyPDF2.PdfFileReader(PdfFile)\n",
    "\n",
    "page.getPage(4) # we have to use the function getPage() form PdfFileReader object"
   ]
  },
  {
   "cell_type": "markdown",
   "id": "6ed961ed",
   "metadata": {},
   "source": [
    "<b>3. What PdfFileReader variable stores the number of pages in the PDF document?"
   ]
  },
  {
   "cell_type": "markdown",
   "id": "d128eabf",
   "metadata": {},
   "source": [
    "PdfFileReader.numPages"
   ]
  },
  {
   "cell_type": "markdown",
   "id": "8e0a2acf",
   "metadata": {},
   "source": [
    "<b>4. If a PdfFileReader object’s PDF is encrypted with the password swordfish, what must you do before you can obtain Page objects from it?"
   ]
  },
  {
   "cell_type": "markdown",
   "id": "440d9a6f",
   "metadata": {},
   "source": [
    "We first have to decrypt the file\n",
    "\n",
    "pdfReader = PyPDF2.PdfFileReader(open(\"file.pdf\",'rb'))\n",
    "\n",
    "pdfReader.decrypt(\"swordfish\")"
   ]
  },
  {
   "cell_type": "markdown",
   "id": "e54312fb",
   "metadata": {},
   "source": [
    "<b>5. What methods do you use to rotate a page?"
   ]
  },
  {
   "cell_type": "markdown",
   "id": "addf274e",
   "metadata": {},
   "source": [
    "rotateClockwise() and rotateCounterClockwise()  with the degrees to rotate are passed as integers in the arguments of the function"
   ]
  },
  {
   "cell_type": "markdown",
   "id": "82539341",
   "metadata": {},
   "source": [
    "<b>6. What is the difference between a Run object and a Paragraph object?"
   ]
  },
  {
   "cell_type": "markdown",
   "id": "6bee38d2",
   "metadata": {},
   "source": [
    "There are three datatypes in Python-Docx.\n",
    "\n",
    "1. Document\n",
    "    * This object represents the entire document.\n",
    "    * It contains a list of paragraph objects \n",
    "    \n",
    "2. Paragragh\n",
    "    * This objects are created whenever user presses \"enter\"\n",
    "    * This contains list of one or more run objects\n",
    "   \n",
    "3. Run\n",
    "    * This is created whenever the style of the document is changed\n",
    "    * Style contains font, size , color etc\n",
    "\n"
   ]
  },
  {
   "attachments": {
    "image.png": {
     "image/png": "[encoded data removed]"
    }
   },
   "cell_type": "markdown",
   "id": "9d41e9fe",
   "metadata": {},
   "source": [
    "This following example reads a word document which has following text in it\n",
    "\n",
    "![image.png](attachment:image.png)"
   ]
  },
  {
   "cell_type": "code",
   "execution_count": 38,
   "id": "dc556c79",
   "metadata": {},
   "outputs": [],
   "source": [
    "\n",
    "import docx\n",
    "\n",
    "import os\n",
    "\n",
    "def diff_run_and_para_obj(file):\n",
    "    \n",
    "\n",
    "    \n",
    "    WordDoc = docx.Document(file) # reads .docx file and returns a Document object\n",
    "    \n",
    "    for para in WordDoc.paragraphs: #loops thorugh the paragraphs object in the WordDoc (Document obj)\n",
    "    \n",
    "        print(para.text) # prints one paragraph in the file at a time with the text attribute\n",
    "    \n",
    "        for run in para.runs: # loop through the runs object in the paragraph object\n",
    "            \n",
    "            print(run.text) # prints one runs object in the current paragraph\n",
    "                            #with the text attribute\n",
    "    \n",
    "    \n",
    "    "
   ]
  },
  {
   "cell_type": "code",
   "execution_count": 39,
   "id": "9646142d",
   "metadata": {},
   "outputs": [
    {
     "name": "stdout",
     "output_type": "stream",
     "text": [
      "1.This is my paragraph for testing the docx module in pyhton\n",
      "1.\n",
      "This is my paragraph for \n",
      "testing\n",
      " the docx module in \n",
      "pyhton\n",
      "2. This is my second para for testing\n",
      "2. This is my \n",
      "second\n",
      " para \n",
      "for testing\n"
     ]
    }
   ],
   "source": [
    "diff_run_and_para_obj(\"Documnet_1.docx\")"
   ]
  },
  {
   "cell_type": "markdown",
   "id": "86870d7f",
   "metadata": {},
   "source": [
    "<b>7. How do you obtain a list of Paragraph objects for a Document object that’s stored in a variable named doc?"
   ]
  },
  {
   "cell_type": "markdown",
   "id": "fcfa4437",
   "metadata": {},
   "source": [
    "doc = docx.Document(\"Documnet_1.docx\")\n",
    "doc.paragraphs"
   ]
  },
  {
   "cell_type": "markdown",
   "id": "7bdf5c30",
   "metadata": {},
   "source": [
    "<b>8. What type of object has bold, underline, italic, strike, and outline variables?"
   ]
  },
  {
   "cell_type": "markdown",
   "id": "928c5d55",
   "metadata": {},
   "source": [
    "run object"
   ]
  },
  {
   "cell_type": "markdown",
   "id": "9dda618e",
   "metadata": {},
   "source": [
    "<b>9. What is the difference between False, True, and None for the bold variable?"
   ]
  },
  {
   "cell_type": "markdown",
   "id": "39d06297",
   "metadata": {},
   "source": [
    "True = bold will always be enabled\n",
    "\n",
    "False = bold will always be disabled\n",
    "\n",
    "None = default run style will be used"
   ]
  },
  {
   "cell_type": "markdown",
   "id": "2314c907",
   "metadata": {},
   "source": [
    "<b>10. How do you create a Document object for a new Word document?"
   ]
  },
  {
   "cell_type": "markdown",
   "id": "3c96f963",
   "metadata": {},
   "source": [
    "doc = docx.Document(\"file.docx\")"
   ]
  },
  {
   "cell_type": "markdown",
   "id": "fecb85a7",
   "metadata": {},
   "source": [
    "<b>11. How do you add a paragraph with the text 'Hello, there!' to a Document object stored in a variable named doc?"
   ]
  },
  {
   "cell_type": "markdown",
   "id": "42af4b6f",
   "metadata": {},
   "source": [
    "doc.add_paragraph('Hello, there!')"
   ]
  },
  {
   "cell_type": "markdown",
   "id": "02c8872e",
   "metadata": {},
   "source": [
    "<b>12. What integers represent the levels of headings available in Word documents?"
   ]
  },
  {
   "cell_type": "markdown",
   "id": "b81c5acd",
   "metadata": {},
   "source": [
    "0 , 1 , 2 , 3 , 4"
   ]
  },
  {
   "cell_type": "markdown",
   "id": "d453fb67",
   "metadata": {},
   "source": [
    "<b>"
   ]
  }
 ],
 "metadata": {
  "kernelspec": {
   "display_name": "Python 3 (ipykernel)",
   "language": "python",
   "name": "python3"
  },
  "language_info": {
   "codemirror_mode": {
    "name": "ipython",
    "version": 3
   },
   "file_extension": ".py",
   "mimetype": "text/x-python",
   "name": "python",
   "nbconvert_exporter": "python",
   "pygments_lexer": "ipython3",
   "version": "3.9.7"
  }
 },
 "nbformat": 4,
 "nbformat_minor": 5
}
