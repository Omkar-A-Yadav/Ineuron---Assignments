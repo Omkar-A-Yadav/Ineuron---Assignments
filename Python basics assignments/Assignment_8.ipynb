{
 "cells": [
  {
   "cell_type": "markdown",
   "id": "b43d3686",
   "metadata": {},
   "source": [
    "# Assignment 8"
   ]
  },
  {
   "cell_type": "markdown",
   "id": "1cb4f163",
   "metadata": {},
   "source": [
    "<b>1. Is the Python Standard Library included with PyInputPlus?"
   ]
  },
  {
   "cell_type": "markdown",
   "id": "ffd3132f",
   "metadata": {},
   "source": [
    "No pyinputplus is not included in the python standard library"
   ]
  },
  {
   "cell_type": "markdown",
   "id": "4a91ce5a",
   "metadata": {},
   "source": [
    "<b>2. Why is PyInputPlus commonly imported with import pyinputplus as pypi?"
   ]
  },
  {
   "cell_type": "markdown",
   "id": "3af43aaa",
   "metadata": {},
   "source": [
    "pypi is shorter and hence faster to write "
   ]
  },
  {
   "cell_type": "markdown",
   "id": "3630d49a",
   "metadata": {},
   "source": [
    "<b>3. How do you distinguish between inputInt() and inputFloat()?"
   ]
  },
  {
   "cell_type": "code",
   "execution_count": 13,
   "id": "ccf4110d",
   "metadata": {},
   "outputs": [
    {
     "name": "stdout",
     "output_type": "stream",
     "text": [
      "1\n",
      "<class 'int'>\n"
     ]
    }
   ],
   "source": [
    "import pyinputplus as pypi\n",
    "\n",
    "# inputInt() returns an int \n",
    "\n",
    "ans = pypi.inputInt()\n",
    "print(type(ans))\n"
   ]
  },
  {
   "cell_type": "code",
   "execution_count": 2,
   "id": "d7d102ee",
   "metadata": {},
   "outputs": [
    {
     "name": "stdout",
     "output_type": "stream",
     "text": [
      "1\n",
      "<class 'float'>\n"
     ]
    }
   ],
   "source": [
    "import pyinputplus as pypi\n",
    "\n",
    "# inputInt() returns a float \n",
    "\n",
    "ans = pypi.inputFloat()\n",
    "print(type(ans))\n"
   ]
  },
  {
   "cell_type": "markdown",
   "id": "00831da0",
   "metadata": {},
   "source": [
    "<b>4. Using PyInputPlus, how do you ensure that the user enters a whole number between 0 and 99?"
   ]
  },
  {
   "cell_type": "code",
   "execution_count": 3,
   "id": "a806fcc4",
   "metadata": {},
   "outputs": [
    {
     "name": "stdout",
     "output_type": "stream",
     "text": [
      "Enter number between 0 to 99 :- 1\n"
     ]
    }
   ],
   "source": [
    "import pyinputplus as pypi\n",
    "\n",
    "ans = pypi.inputInt(\"Enter number between 0 to 99 :- \",greaterThan =0 , lessThan= 99)"
   ]
  },
  {
   "cell_type": "markdown",
   "id": "c8aee9be",
   "metadata": {},
   "source": [
    "<b>5. What is transferred to the keyword arguments allowRegexes and blockRegexes?"
   ]
  },
  {
   "cell_type": "code",
   "execution_count": 7,
   "id": "ede2b3be",
   "metadata": {},
   "outputs": [
    {
     "name": "stdout",
     "output_type": "stream",
     "text": [
      "Enter a number V\n"
     ]
    }
   ],
   "source": [
    "# allowRegexes takes the regular expression strings which will be allowed by the code\n",
    "\n",
    "ans = pypi.inputInt(\"Enter a number \" ,allowRegexes= [r'V'])"
   ]
  },
  {
   "cell_type": "code",
   "execution_count": 8,
   "id": "3a1fb990",
   "metadata": {},
   "outputs": [
    {
     "name": "stdout",
     "output_type": "stream",
     "text": [
      "Enter a number 0\n",
      "This response is invalid.\n",
      "Enter a number 1\n",
      "This response is invalid.\n",
      "Enter a number 5\n"
     ]
    }
   ],
   "source": [
    "# blockRegexes takes the regular expression strings which will not be allowed by the code\n",
    "\n",
    "ans = pypi.inputInt(\"Enter a number \" ,blockRegexes= [r'[0123]'])"
   ]
  },
  {
   "cell_type": "markdown",
   "id": "b16f8bdb",
   "metadata": {},
   "source": [
    "<b>6. If a blank input is entered three times, what does inputStr(limit=3) do?"
   ]
  },
  {
   "cell_type": "markdown",
   "id": "aa7ae1a8",
   "metadata": {},
   "source": [
    "It terminates the program and raises an exception RetryLimitException"
   ]
  },
  {
   "cell_type": "markdown",
   "id": "82b39291",
   "metadata": {},
   "source": [
    "<b>7. If blank input is entered three times, what does inputStr(limit=3, default='hello') do?"
   ]
  },
  {
   "cell_type": "code",
   "execution_count": 15,
   "id": "77ac3fd2",
   "metadata": {},
   "outputs": [
    {
     "name": "stdout",
     "output_type": "stream",
     "text": [
      " \n",
      "Blank values are not allowed.\n",
      " \n",
      "Blank values are not allowed.\n",
      " \n",
      "Blank values are not allowed.\n"
     ]
    },
    {
     "data": {
      "text/plain": [
       "'hello'"
      ]
     },
     "execution_count": 15,
     "metadata": {},
     "output_type": "execute_result"
    }
   ],
   "source": [
    "# this function will return the value as 'hello'\n",
    "\n",
    "pypi.inputStr(limit=3, default='hello')"
   ]
  }
 ],
 "metadata": {
  "kernelspec": {
   "display_name": "Python 3 (ipykernel)",
   "language": "python",
   "name": "python3"
  },
  "language_info": {
   "codemirror_mode": {
    "name": "ipython",
    "version": 3
   },
   "file_extension": ".py",
   "mimetype": "text/x-python",
   "name": "python",
   "nbconvert_exporter": "python",
   "pygments_lexer": "ipython3",
   "version": "3.9.7"
  }
 },
 "nbformat": 4,
 "nbformat_minor": 5
}
