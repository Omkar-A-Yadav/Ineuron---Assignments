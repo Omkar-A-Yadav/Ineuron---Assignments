{
 "cells": [
  {
   "cell_type": "markdown",
   "id": "04e4b5af",
   "metadata": {},
   "source": [
    "# Assignment 5"
   ]
  },
  {
   "cell_type": "markdown",
   "id": "d035c9ff",
   "metadata": {},
   "source": [
    "<b>1. What does an empty dictionary's code look like?"
   ]
  },
  {
   "cell_type": "code",
   "execution_count": 3,
   "id": "df89561d",
   "metadata": {},
   "outputs": [
    {
     "name": "stdout",
     "output_type": "stream",
     "text": [
      "{}\n"
     ]
    }
   ],
   "source": [
    "d ={}\n",
    "print(d)"
   ]
  },
  {
   "cell_type": "markdown",
   "id": "b14e6416",
   "metadata": {},
   "source": [
    "<b>2. What is the value of a dictionary value with the key 'foo' and the value 42?"
   ]
  },
  {
   "cell_type": "code",
   "execution_count": 5,
   "id": "afdbe2af",
   "metadata": {},
   "outputs": [
    {
     "name": "stdout",
     "output_type": "stream",
     "text": [
      "{'foo': 42}\n"
     ]
    }
   ],
   "source": [
    "#value is {'foo': 42}\n",
    "\n",
    "d['foo'] = 42\n",
    "\n",
    "print(d)  "
   ]
  },
  {
   "cell_type": "markdown",
   "id": "1fba946c",
   "metadata": {},
   "source": [
    "<b>3. What is the most significant distinction between a dictionary and a list?"
   ]
  },
  {
   "cell_type": "markdown",
   "id": "ce28e4c7",
   "metadata": {},
   "source": [
    "Dictionary has data stored in \" key : Value \" pair whereas in lists data is stored via indexes.\n"
   ]
  },
  {
   "cell_type": "markdown",
   "id": "ec196ac6",
   "metadata": {},
   "source": [
    "<b>4. What happens if you try to access spam['foo'] if spam is {'bar': 100}?"
   ]
  },
  {
   "cell_type": "markdown",
   "id": "31c0b9b7",
   "metadata": {},
   "source": [
    "There will be a key value error as key 'foo' is not available in dictionary spam"
   ]
  },
  {
   "cell_type": "markdown",
   "id": "84be7b60",
   "metadata": {},
   "source": [
    "<b>5. If a dictionary is stored in spam, what is the difference between the expressions 'cat' in spam and 'cat' in spam.keys()?"
   ]
  },
  {
   "cell_type": "code",
   "execution_count": 13,
   "id": "08cb5136",
   "metadata": {},
   "outputs": [
    {
     "name": "stdout",
     "output_type": "stream",
     "text": [
      "True\n",
      "True\n"
     ]
    }
   ],
   "source": [
    "'''There is no difference, both expressions evaluate to be true as both of the expressions \n",
    "    check if cat is present in the keys of the dictionary spam '''\n",
    "\n",
    "\n",
    "spam = {\"cat\":1}\n",
    "\n",
    "print(\"cat\" in spam)\n",
    "\n",
    "print(\"cat\" in spam.keys())"
   ]
  },
  {
   "cell_type": "markdown",
   "id": "2305e5a6",
   "metadata": {},
   "source": [
    "<b>6. If a dictionary is stored in spam, what is the difference between the expressions 'cat' in spam and 'cat' in spam.values()?"
   ]
  },
  {
   "cell_type": "code",
   "execution_count": 15,
   "id": "170ce052",
   "metadata": {},
   "outputs": [
    {
     "name": "stdout",
     "output_type": "stream",
     "text": [
      "True\n",
      "False\n"
     ]
    }
   ],
   "source": [
    "spam = {\"cat\":1} # dictionary stored in spam\n",
    "\n",
    "print(\"cat\" in spam) # this statement checks for \"cat\" only in keys of the dictionary\n",
    "\n",
    "print(\"cat\" in spam.values()) # this statement checks for \"cat\" only in values of the dictionary"
   ]
  },
  {
   "cell_type": "markdown",
   "id": "0ce4056d",
   "metadata": {},
   "source": [
    "<b>7. What is a shortcut for the following code?"
   ]
  },
  {
   "cell_type": "markdown",
   "id": "3cb6cbf9",
   "metadata": {},
   "source": [
    "<b>if 'color' not in spam:"
   ]
  },
  {
   "cell_type": "markdown",
   "id": "f3424a34",
   "metadata": {},
   "source": [
    "<b>spam['color'] = 'black'"
   ]
  },
  {
   "cell_type": "markdown",
   "id": "1c3b463a",
   "metadata": {},
   "source": [
    "<b>"
   ]
  },
  {
   "cell_type": "code",
   "execution_count": 4,
   "id": "c060daae",
   "metadata": {},
   "outputs": [
    {
     "data": {
      "text/plain": [
       "'black'"
      ]
     },
     "execution_count": 4,
     "metadata": {},
     "output_type": "execute_result"
    }
   ],
   "source": [
    "#set.default() method inserts a key if it is not present in the dictionary\n",
    "spam = {\"cat\":1}\n",
    "\n",
    "spam.setdefault(\"color\",'black')"
   ]
  },
  {
   "cell_type": "code",
   "execution_count": 6,
   "id": "ef13d990",
   "metadata": {
    "scrolled": true
   },
   "outputs": [
    {
     "name": "stdout",
     "output_type": "stream",
     "text": [
      "{'cat': 1, 'color': 'black'}\n"
     ]
    }
   ],
   "source": [
    "print(spam) # key 'color' is added with value 'black' since it was not in the dictionary  "
   ]
  },
  {
   "cell_type": "code",
   "execution_count": 7,
   "id": "249161b4",
   "metadata": {},
   "outputs": [
    {
     "data": {
      "text/plain": [
       "1"
      ]
     },
     "execution_count": 7,
     "metadata": {},
     "output_type": "execute_result"
    }
   ],
   "source": [
    "#set.default() method returns the value of the key is it is already present\n",
    "spam.setdefault(\"cat\",'pink') "
   ]
  },
  {
   "cell_type": "markdown",
   "id": "ef917c6b",
   "metadata": {},
   "source": [
    "<b>8. How do you \"pretty print\" dictionary values using which module and function?"
   ]
  },
  {
   "cell_type": "code",
   "execution_count": 11,
   "id": "6a2ab7ff",
   "metadata": {},
   "outputs": [
    {
     "name": "stdout",
     "output_type": "stream",
     "text": [
      "{1: 2, 3: 9, 4: 65, 15: 6, 56: 654, 87: 98, 465: 65465}\n"
     ]
    }
   ],
   "source": [
    "#we have to import module : - pprint module\n",
    "\n",
    "spam = {1:2,15:6,3:9,56:654,465:65465,4:65,87:98}\n",
    "\n",
    "import pprint\n",
    "\n",
    "#we have to use pprint() function to pretty print dictionary values\n",
    "\n",
    "pprint.pprint(spam)"
   ]
  },
  {
   "cell_type": "markdown",
   "id": "04ebe74b",
   "metadata": {},
   "source": [
    "<b>"
   ]
  }
 ],
 "metadata": {
  "kernelspec": {
   "display_name": "Python 3 (ipykernel)",
   "language": "python",
   "name": "python3"
  },
  "language_info": {
   "codemirror_mode": {
    "name": "ipython",
    "version": 3
   },
   "file_extension": ".py",
   "mimetype": "text/x-python",
   "name": "python",
   "nbconvert_exporter": "python",
   "pygments_lexer": "ipython3",
   "version": "3.9.7"
  }
 },
 "nbformat": 4,
 "nbformat_minor": 5
}
