{
 "cells": [
  {
   "cell_type": "markdown",
   "id": "d5efeb8d",
   "metadata": {},
   "source": [
    "# Assignment 19"
   ]
  },
  {
   "cell_type": "markdown",
   "id": "48f86fc3",
   "metadata": {},
   "source": [
    "<b>1. Make a class called Thing with no contents and print it. Then, create an object called example from this class and also print it. Are the printed values the same or different?"
   ]
  },
  {
   "cell_type": "code",
   "execution_count": 5,
   "id": "02f6e22c",
   "metadata": {},
   "outputs": [
    {
     "name": "stdout",
     "output_type": "stream",
     "text": [
      "<class '__main__.Thing'>\n",
      "<__main__.Thing object at 0x0000024AF39B58E0>\n"
     ]
    }
   ],
   "source": [
    "class Thing:\n",
    "    pass\n",
    "\n",
    "print(Thing)\n",
    "\n",
    "example = Thing()\n",
    "\n",
    "print(example)\n",
    "\n",
    "# The printed values are not same"
   ]
  },
  {
   "cell_type": "markdown",
   "id": "83136341",
   "metadata": {},
   "source": [
    "<b>2. Create a new class called Thing2 and add the value 'abc' to the letters class attribute. Letters should be printed."
   ]
  },
  {
   "cell_type": "code",
   "execution_count": 7,
   "id": "3f2dff74",
   "metadata": {},
   "outputs": [
    {
     "name": "stdout",
     "output_type": "stream",
     "text": [
      "abc\n"
     ]
    }
   ],
   "source": [
    "class Thing2:\n",
    "    letters = 'abc'\n",
    "    \n",
    "print(Thing2.letters)    "
   ]
  },
  {
   "cell_type": "markdown",
   "id": "38a75023",
   "metadata": {},
   "source": [
    "<b>3. Make yet another class called, of course, Thing3. This time, assign the value 'xyz' to an instance (object) attribute called letters. Print letters. Do you need to make an object from the class to do this?"
   ]
  },
  {
   "cell_type": "code",
   "execution_count": 19,
   "id": "df4db4ea",
   "metadata": {},
   "outputs": [
    {
     "name": "stdout",
     "output_type": "stream",
     "text": [
      "<function Thing3.object_attribute at 0x0000024AF5E408B0>\n",
      "xyz\n"
     ]
    }
   ],
   "source": [
    "class Thing3:\n",
    "    def object_attribute(self):\n",
    "         letters = 'xyz'\n",
    "         return letters\n",
    "        \n",
    "print(Thing3.object_attribute)\n",
    "\n",
    "obj = Thing3()\n",
    "\n",
    "print(obj.object_attribute())\n",
    "\n",
    "#Yes to access object variables (variaables defined inside a method in a class ),we have to make an object to call them"
   ]
  },
  {
   "cell_type": "markdown",
   "id": "f57c1576",
   "metadata": {},
   "source": [
    "<b>4. Create an Element class with the instance attributes name, symbol, and number. Create a class object with the values 'Hydrogen,' 'H,' and 1."
   ]
  },
  {
   "cell_type": "code",
   "execution_count": 20,
   "id": "213cc273",
   "metadata": {},
   "outputs": [],
   "source": [
    "class Element:\n",
    "    \n",
    "    def __init__(self, name,symbol,number):\n",
    "        self.name = name\n",
    "        self.symbol = symbol\n",
    "        self.number = number\n",
    "\n",
    "obj = Element('Hydrogen','H',1)"
   ]
  },
  {
   "cell_type": "markdown",
   "id": "f48f6f3e",
   "metadata": {},
   "source": [
    "<b>5. Make a dictionary with these keys and values: 'name': 'Hydrogen', 'symbol': 'H', 'number': 1. Then, create an object called hydrogen from class Element using this dictionary."
   ]
  },
  {
   "cell_type": "code",
   "execution_count": 27,
   "id": "6a0efe3b",
   "metadata": {},
   "outputs": [],
   "source": [
    "d = {\"name\": \"Hydrogen\",\"symbol\":\"H\",\"number\":1}\n",
    "\n",
    "\n",
    "\n",
    "hydrogen = Element(**d)"
   ]
  },
  {
   "cell_type": "markdown",
   "id": "01e43d6d",
   "metadata": {},
   "source": [
    "<b>6. For the Element class, define a method called dump() that prints the values of the object’s attributes (name, symbol, and number). Create the hydrogen object from this new definition and use dump() to print its attributes."
   ]
  },
  {
   "cell_type": "code",
   "execution_count": 32,
   "id": "e1d88bb2",
   "metadata": {},
   "outputs": [
    {
     "name": "stdout",
     "output_type": "stream",
     "text": [
      " Name = Hydrogen , Symbol = H , Number = 1\n"
     ]
    }
   ],
   "source": [
    "class Element:\n",
    "    \n",
    "    def __init__(self, name,symbol,number):\n",
    "        self.name = name\n",
    "        self.symbol = symbol\n",
    "        self.number = number\n",
    "        \n",
    "    def dump(self):\n",
    "        print(\" Name = {} , Symbol = {} , Number = {}\".format(self.name,self.symbol,self.number))\n",
    "        \n",
    "Hydrogen = Element('Hydrogen','H',1)\n",
    "\n",
    "Hydrogen.dump()\n"
   ]
  },
  {
   "cell_type": "markdown",
   "id": "8f329877",
   "metadata": {},
   "source": [
    "<b>7. Call print(hydrogen). In the definition of Element, change the name of method dump to __str__, create a new hydrogen object, and call print(hydrogen) again."
   ]
  },
  {
   "cell_type": "code",
   "execution_count": 33,
   "id": "8a5d68f3",
   "metadata": {},
   "outputs": [
    {
     "name": "stdout",
     "output_type": "stream",
     "text": [
      "<__main__.Element object at 0x0000024AF5C563A0>\n"
     ]
    }
   ],
   "source": [
    "print(hydrogen)"
   ]
  },
  {
   "cell_type": "code",
   "execution_count": 19,
   "id": "17bc8721",
   "metadata": {},
   "outputs": [
    {
     "name": "stdout",
     "output_type": "stream",
     "text": [
      " Name = Hydrogen , Symbol = H , Number = 1\n"
     ]
    }
   ],
   "source": [
    "class Element:\n",
    "    \n",
    "    def __init__(self, name,symbol,number):\n",
    "        self.name = name\n",
    "        self.symbol = symbol\n",
    "        self.number = number\n",
    "        \n",
    "    def __str__(self):\n",
    "        return \" Name = {} , Symbol = {} , Number = {}\".format(self.name,self.symbol,self.number)\n",
    "        \n",
    "Hydrogen1 = Element('Hydrogen','H',1)\n",
    "\n",
    "print(Hydrogen1)"
   ]
  },
  {
   "cell_type": "markdown",
   "id": "efe97f22",
   "metadata": {},
   "source": [
    "<b>8. Modify Element to make the attributes name, symbol, and number private. Define a getter property for each to return its value."
   ]
  },
  {
   "cell_type": "code",
   "execution_count": 18,
   "id": "f8ff7e51",
   "metadata": {},
   "outputs": [
    {
     "name": "stdout",
     "output_type": "stream",
     "text": [
      "Hydrogen\n",
      "H\n",
      "1\n"
     ]
    }
   ],
   "source": [
    "class Element:\n",
    "    \n",
    "    def __init__(self, name,symbol,number):\n",
    "        self.__name = name\n",
    "        self.__symbol = symbol\n",
    "        self.__number = number\n",
    "    \n",
    "    @property\n",
    "    def get_name(self):\n",
    "        return self.__name\n",
    "    @property\n",
    "    def get_symbol(self):\n",
    "        return self.__symbol\n",
    "    @property\n",
    "    def get_number(self):\n",
    "        return self.__number\n",
    "    \n",
    "Hydrogen = Element('Hydrogen','H',1)\n",
    "\n",
    "print(Hydrogen.get_name)\n",
    "print(Hydrogen.get_symbol)\n",
    "print(Hydrogen.get_number)"
   ]
  },
  {
   "cell_type": "markdown",
   "id": "144065f4",
   "metadata": {},
   "source": [
    "<b>9. Define three classes: Bear, Rabbit, and Octothorpe. For each, define only one method: eats(). This should return 'berries' (Bear), 'clover' (Rabbit), or 'campers' (Octothorpe). Create one object from each and print what it eats."
   ]
  },
  {
   "cell_type": "code",
   "execution_count": 17,
   "id": "d77dedb9",
   "metadata": {},
   "outputs": [
    {
     "name": "stdout",
     "output_type": "stream",
     "text": [
      "berries\n",
      "clover\n",
      "campers\n"
     ]
    }
   ],
   "source": [
    "class Bear:\n",
    "    \n",
    "    def eats(self):\n",
    "        \n",
    "        return \"berries\"\n",
    "    \n",
    "class Rabbit:\n",
    "    \n",
    "    def eats(self):\n",
    "        \n",
    "        return \"clover\"\n",
    "    \n",
    "class Octothorpe:\n",
    "    \n",
    "    def eats(self):\n",
    "        \n",
    "        return \"campers\"\n",
    "    \n",
    "bear = Bear()\n",
    "\n",
    "rabbit = Rabbit()\n",
    "\n",
    "octothorpe = Octothorpe()\n",
    "\n",
    "print(bear.eats())\n",
    "print(rabbit.eats())\n",
    "print(octothorpe.eats())"
   ]
  },
  {
   "cell_type": "markdown",
   "id": "d65ace0a",
   "metadata": {},
   "source": [
    "<b>10. Define these classes: Laser, Claw, and SmartPhone. Each has only one method: does(). This returns 'disintegrate' (Laser), 'crush' (Claw), or 'ring' (SmartPhone). Then, define the class Robot that has one instance (object) of each of these. Define a does() method for the Robot that prints what its component objects do."
   ]
  },
  {
   "cell_type": "code",
   "execution_count": 14,
   "id": "4ac64ae7",
   "metadata": {},
   "outputs": [
    {
     "name": "stdout",
     "output_type": "stream",
     "text": [
      "Laser's  disintegrate\n",
      "Claw  crush\n",
      "Smart Phone ring\n"
     ]
    }
   ],
   "source": [
    "class Laser:\n",
    "    \n",
    "    def does(self):\n",
    "       \n",
    "        return \"disintegrate\"\n",
    "    \n",
    "class Claw:\n",
    "    \n",
    "    def does(self):\n",
    "        \n",
    "        return \"crush\"\n",
    "    \n",
    "    \n",
    "class SmartPhone:\n",
    "    \n",
    "    def does(self):\n",
    "        \n",
    "        return \"ring\"\n",
    "    \n",
    "class Robot:\n",
    "    \n",
    "    def __init__(self):\n",
    "        self.laser = Laser()\n",
    "    \n",
    "        self.claw = Claw()\n",
    "    \n",
    "        self.smart_phone =SmartPhone()\n",
    "    \n",
    "    def does(self):\n",
    "        \n",
    "        print(\"Laser's \", self.laser.does())\n",
    "        \n",
    "        print(\"Claw \", self.claw.does())\n",
    "        \n",
    "        print(\"Smart Phone\", self.smart_phone.does())\n",
    "        \n",
    "robot =Robot()\n",
    "\n",
    "robot.does()"
   ]
  }
 ],
 "metadata": {
  "kernelspec": {
   "display_name": "Python 3 (ipykernel)",
   "language": "python",
   "name": "python3"
  },
  "language_info": {
   "codemirror_mode": {
    "name": "ipython",
    "version": 3
   },
   "file_extension": ".py",
   "mimetype": "text/x-python",
   "name": "python",
   "nbconvert_exporter": "python",
   "pygments_lexer": "ipython3",
   "version": "3.9.7"
  }
 },
 "nbformat": 4,
 "nbformat_minor": 5
}
