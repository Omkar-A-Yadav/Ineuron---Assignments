{
 "cells": [
  {
   "cell_type": "markdown",
   "id": "05df3080",
   "metadata": {},
   "source": [
    "# Assignment 12"
   ]
  },
  {
   "cell_type": "markdown",
   "id": "224e3a30",
   "metadata": {},
   "source": [
    "<b>1. What is the result of the code, and explain?"
   ]
  },
  {
   "cell_type": "markdown",
   "id": "93b57bd5",
   "metadata": {},
   "source": [
    "<b>>>> X = 'iNeuron'"
   ]
  },
  {
   "cell_type": "markdown",
   "id": "b42c202a",
   "metadata": {},
   "source": [
    "<b>>>> def func():"
   ]
  },
  {
   "cell_type": "markdown",
   "id": "baef307b",
   "metadata": {},
   "source": [
    "<b>print(X)"
   ]
  },
  {
   "cell_type": "markdown",
   "id": "a0a5991a",
   "metadata": {},
   "source": [
    "<b>>>> func()"
   ]
  },
  {
   "cell_type": "markdown",
   "id": "5ce07cf7",
   "metadata": {},
   "source": [
    "The code prints -----> iNeuron in the console\n",
    "\n",
    "First,  variable X is assigned value \"iNeuron\". Then a function named func()  is called. The program goes inside the  \n",
    "\n",
    "function statement and prints X with built in finction print()\n",
    "\n"
   ]
  },
  {
   "cell_type": "code",
   "execution_count": 10,
   "id": "4ad0763d",
   "metadata": {},
   "outputs": [
    {
     "name": "stdout",
     "output_type": "stream",
     "text": [
      "iNeuron\n"
     ]
    }
   ],
   "source": [
    "X = 'iNeuron'\n",
    "\n",
    "def func():\n",
    "    print(X)\n",
    "    \n",
    "func()"
   ]
  },
  {
   "cell_type": "markdown",
   "id": "641357ae",
   "metadata": {},
   "source": [
    "<b>2. What is the result of the code, and explain?"
   ]
  },
  {
   "cell_type": "markdown",
   "id": "e7227f04",
   "metadata": {},
   "source": [
    "<b>>>> X = 'iNeuron'"
   ]
  },
  {
   "cell_type": "markdown",
   "id": "2ce88074",
   "metadata": {},
   "source": [
    "<b>>>> def func():"
   ]
  },
  {
   "cell_type": "markdown",
   "id": "d8b0bd61",
   "metadata": {},
   "source": [
    "<b>X = 'NI!'"
   ]
  },
  {
   "cell_type": "markdown",
   "id": "4fa845e5",
   "metadata": {},
   "source": [
    "<b>>>> func()"
   ]
  },
  {
   "cell_type": "markdown",
   "id": "029939e9",
   "metadata": {},
   "source": [
    "<b>>>> print(X)"
   ]
  },
  {
   "cell_type": "markdown",
   "id": "957baa77",
   "metadata": {},
   "source": [
    "<b>"
   ]
  },
  {
   "cell_type": "markdown",
   "id": "0a9fd196",
   "metadata": {},
   "source": [
    "The code prints the value of X which is globally defined (outside the function). This is because the value of variables in \n",
    "\n",
    "function are destroyed after the function call"
   ]
  },
  {
   "cell_type": "code",
   "execution_count": 11,
   "id": "4f849335",
   "metadata": {},
   "outputs": [
    {
     "name": "stdout",
     "output_type": "stream",
     "text": [
      "iNeuron\n"
     ]
    }
   ],
   "source": [
    "X = 'iNeuron'\n",
    "\n",
    "def func():\n",
    "    X = \"NI!\"\n",
    "    \n",
    "func()\n",
    "\n",
    "print(X)"
   ]
  },
  {
   "cell_type": "markdown",
   "id": "5ec1f246",
   "metadata": {},
   "source": [
    "<b>3. What does this code print, and why?"
   ]
  },
  {
   "cell_type": "markdown",
   "id": "940f59d4",
   "metadata": {},
   "source": [
    "<b>>>> X = 'iNeuron'"
   ]
  },
  {
   "cell_type": "markdown",
   "id": "02a71ef5",
   "metadata": {},
   "source": [
    "<b>>>> def func():"
   ]
  },
  {
   "cell_type": "markdown",
   "id": "457d94f8",
   "metadata": {},
   "source": [
    "<b>X = 'NI'"
   ]
  },
  {
   "cell_type": "markdown",
   "id": "8118091e",
   "metadata": {},
   "source": [
    "<b>print(X)"
   ]
  },
  {
   "cell_type": "markdown",
   "id": "a9d799bd",
   "metadata": {},
   "source": [
    "<b>>>> func()"
   ]
  },
  {
   "cell_type": "markdown",
   "id": "17b98993",
   "metadata": {},
   "source": [
    "<b>>>> print(X)"
   ]
  },
  {
   "cell_type": "markdown",
   "id": "7def1c2b",
   "metadata": {},
   "source": [
    "The code prints two things:-\n",
    "\n",
    "\n",
    "    * \"NI\" because func() was called and in the function block a local variable X is defined value \"NI\" and is printed\n",
    "    \n",
    "    * \"iNeuron\" because print function is used for global variable X"
   ]
  },
  {
   "cell_type": "code",
   "execution_count": 12,
   "id": "9705a818",
   "metadata": {},
   "outputs": [
    {
     "name": "stdout",
     "output_type": "stream",
     "text": [
      "NI\n",
      "iNeuron\n"
     ]
    }
   ],
   "source": [
    "X = 'iNeuron'\n",
    "\n",
    "def func():\n",
    "    \n",
    "    X ='NI'\n",
    "    \n",
    "    print(X)\n",
    "    \n",
    "func()\n",
    "\n",
    "print(X)"
   ]
  },
  {
   "cell_type": "markdown",
   "id": "2b9dedb3",
   "metadata": {},
   "source": [
    "<b>4. What output does this code produce? Why?"
   ]
  },
  {
   "cell_type": "markdown",
   "id": "416522da",
   "metadata": {},
   "source": [
    "<b>>>> X = 'iNeuron'"
   ]
  },
  {
   "cell_type": "markdown",
   "id": "d6ec0a03",
   "metadata": {},
   "source": [
    "<b>>>> def func():"
   ]
  },
  {
   "cell_type": "markdown",
   "id": "0c051bd0",
   "metadata": {},
   "source": [
    "<b>global X"
   ]
  },
  {
   "cell_type": "markdown",
   "id": "b75c54a8",
   "metadata": {},
   "source": [
    "<b>X = 'NI'"
   ]
  },
  {
   "cell_type": "markdown",
   "id": "90b20811",
   "metadata": {},
   "source": [
    "<b>>>> func()"
   ]
  },
  {
   "cell_type": "markdown",
   "id": "267b6751",
   "metadata": {},
   "source": [
    "<b>>>> print(X)"
   ]
  },
  {
   "cell_type": "markdown",
   "id": "c41206a2",
   "metadata": {},
   "source": [
    "The code prints value of X - \"iNeuron\" as it is available globally and value of X = \"Ni\" gets destroyed after the function call"
   ]
  },
  {
   "cell_type": "code",
   "execution_count": 14,
   "id": "ee285935",
   "metadata": {},
   "outputs": [
    {
     "name": "stdout",
     "output_type": "stream",
     "text": [
      "NI\n"
     ]
    }
   ],
   "source": [
    "X = 'iNeuron'\n",
    "def func():\n",
    "    global X\n",
    "    X = 'NI'\n",
    "func()\n",
    "print(X)"
   ]
  },
  {
   "cell_type": "markdown",
   "id": "b106c52e",
   "metadata": {},
   "source": [
    "<b>5. What about this code—what’s the output, and why?"
   ]
  },
  {
   "cell_type": "markdown",
   "id": "5f218414",
   "metadata": {},
   "source": [
    "<b>>>> X = 'iNeuron'"
   ]
  },
  {
   "cell_type": "markdown",
   "id": "5bb3000d",
   "metadata": {},
   "source": [
    "<b>>>> def func():"
   ]
  },
  {
   "cell_type": "markdown",
   "id": "4622b080",
   "metadata": {},
   "source": [
    "<b>X = 'NI'"
   ]
  },
  {
   "cell_type": "markdown",
   "id": "cdc48709",
   "metadata": {},
   "source": [
    "<b>def nested():"
   ]
  },
  {
   "cell_type": "markdown",
   "id": "2b4ec45b",
   "metadata": {},
   "source": [
    "<b>print(X)"
   ]
  },
  {
   "cell_type": "markdown",
   "id": "a2c0485e",
   "metadata": {},
   "source": [
    "<b>nested()"
   ]
  },
  {
   "cell_type": "markdown",
   "id": "b884f8be",
   "metadata": {},
   "source": [
    "<b>>>> func()"
   ]
  },
  {
   "cell_type": "markdown",
   "id": "58134b50",
   "metadata": {},
   "source": [
    "<b>>>> X"
   ]
  },
  {
   "cell_type": "markdown",
   "id": "d9483e83",
   "metadata": {},
   "source": [
    "The output of the code is \"NI\" and the value of X is \"iNeuron\".\n",
    "\n",
    "X = \"iNeuron\" in the global scope. When func() is called X is assigned value \"NI\". Then nested() function is called which prints value of X"
   ]
  },
  {
   "cell_type": "code",
   "execution_count": 15,
   "id": "2bfbf958",
   "metadata": {},
   "outputs": [
    {
     "name": "stdout",
     "output_type": "stream",
     "text": [
      "NI\n"
     ]
    },
    {
     "data": {
      "text/plain": [
       "'iNeuron'"
      ]
     },
     "execution_count": 15,
     "metadata": {},
     "output_type": "execute_result"
    }
   ],
   "source": [
    "X = 'iNeuron'\n",
    "def func():\n",
    "    X = 'NI'\n",
    "    def nested():\n",
    "        print(X)\n",
    "    nested()\n",
    "func()\n",
    "X\n"
   ]
  },
  {
   "cell_type": "markdown",
   "id": "69403cb9",
   "metadata": {},
   "source": [
    "<b>6. How about this code: what is its output in Python 3, and explain?"
   ]
  },
  {
   "cell_type": "markdown",
   "id": "69b65c38",
   "metadata": {},
   "source": [
    "<b>>>> def func():"
   ]
  },
  {
   "cell_type": "markdown",
   "id": "12665d85",
   "metadata": {},
   "source": [
    "<b>X = 'NI'"
   ]
  },
  {
   "cell_type": "markdown",
   "id": "e21fe174",
   "metadata": {},
   "source": [
    "<b>def nested():"
   ]
  },
  {
   "cell_type": "markdown",
   "id": "555491dd",
   "metadata": {},
   "source": [
    "<b>nonlocal X"
   ]
  },
  {
   "cell_type": "markdown",
   "id": "d43831de",
   "metadata": {},
   "source": [
    "<b>X = 'Spam'"
   ]
  },
  {
   "cell_type": "markdown",
   "id": "fd65abdb",
   "metadata": {},
   "source": [
    "<b>nested()"
   ]
  },
  {
   "cell_type": "markdown",
   "id": "b6402dc1",
   "metadata": {},
   "source": [
    "<b>print(X)"
   ]
  },
  {
   "cell_type": "markdown",
   "id": "65fccdef",
   "metadata": {},
   "source": [
    "<b>>>> func()"
   ]
  },
  {
   "cell_type": "markdown",
   "id": "f86a0e0f",
   "metadata": {},
   "source": [
    "The output of code is \"Spam\"\n",
    "\n",
    "When func() is called. value of X is assigned as \"NI\" Then nested() function is called. This makes the variable X as non local and asigns it value spam. So  X is printed as \"Spam\" instead of \"NI\""
   ]
  },
  {
   "cell_type": "code",
   "execution_count": 18,
   "id": "9921a752",
   "metadata": {},
   "outputs": [
    {
     "name": "stdout",
     "output_type": "stream",
     "text": [
      "Spam\n"
     ]
    }
   ],
   "source": [
    "def func():\n",
    "    X = 'NI'\n",
    "    def nested():\n",
    "        nonlocal X\n",
    "        X = 'Spam'\n",
    "    nested()\n",
    "    print(X)\n",
    "func()"
   ]
  },
  {
   "cell_type": "markdown",
   "id": "f87a8d11",
   "metadata": {},
   "source": [
    "<b>"
   ]
  },
  {
   "cell_type": "markdown",
   "id": "dbe7d6b2",
   "metadata": {},
   "source": [
    "<b>"
   ]
  },
  {
   "cell_type": "markdown",
   "id": "9c2f4ae6",
   "metadata": {},
   "source": [
    "<b>"
   ]
  },
  {
   "cell_type": "markdown",
   "id": "7318957f",
   "metadata": {},
   "source": [
    "<b>"
   ]
  }
 ],
 "metadata": {
  "kernelspec": {
   "display_name": "Python 3 (ipykernel)",
   "language": "python",
   "name": "python3"
  },
  "language_info": {
   "codemirror_mode": {
    "name": "ipython",
    "version": 3
   },
   "file_extension": ".py",
   "mimetype": "text/x-python",
   "name": "python",
   "nbconvert_exporter": "python",
   "pygments_lexer": "ipython3",
   "version": "3.9.7"
  }
 },
 "nbformat": 4,
 "nbformat_minor": 5
}
