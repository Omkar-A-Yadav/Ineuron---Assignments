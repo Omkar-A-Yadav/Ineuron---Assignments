{
 "cells": [
  {
   "cell_type": "markdown",
   "id": "56e0e13f",
   "metadata": {},
   "source": [
    "# Assignment 1"
   ]
  },
  {
   "cell_type": "markdown",
   "id": "af556f5b",
   "metadata": {},
   "source": [
    "<b>Q]1. In the below elements which of them are values or an expression? eg:- values can be\n",
    "integer or string and expressions will be mathematical operators.\n",
    "\n",
    "*\n",
    "\n",
    "'hello'\n",
    "\n",
    "-87.8\n",
    "\n",
    "-\n",
    "\n",
    "/\n",
    "\n",
    "+\n",
    "\n",
    "6 <b>"
   ]
  },
  {
   "cell_type": "markdown",
   "id": "1fedefdc",
   "metadata": {},
   "source": [
    "<b> Ans:- <b>\n",
    "\n",
    "Values are :-\n",
    "    \n",
    "      'hello', -87.8 , 6\n",
    "    \n",
    "expressions are :-\n",
    "    \n",
    "      - , / , +,*"
   ]
  },
  {
   "cell_type": "markdown",
   "id": "3228e784",
   "metadata": {},
   "source": [
    "<b> Q2].What is the difference between string and variable? <b>"
   ]
  },
  {
   "cell_type": "markdown",
   "id": "7d9f5a6b",
   "metadata": {},
   "source": [
    "<b>Ans:-<b>\n",
    "    \n",
    "A string is a data type,which represents some information and a vairable is a place/container where we store the data in the primary memory\n",
    "\n",
    "for example:-\n",
    "x = 'omkar'\n",
    "here x is the variable and 'omkar' is the string"
   ]
  },
  {
   "cell_type": "markdown",
   "id": "360b0a29",
   "metadata": {},
   "source": [
    "<b> Q3]. Describe three different data types."
   ]
  },
  {
   "cell_type": "markdown",
   "id": "7464b9e4",
   "metadata": {},
   "source": [
    "<b> Ans:- \n",
    "\n",
    "int:-\n",
    "\n",
    "it represents  whole numbers negative or positive both , without decimal points\n",
    "\n",
    "ex:- 0,1,2,-3,-4 etc\n",
    "      \n",
    "float :- \n",
    "\n",
    "it represents real numbers with decimal points \n",
    "\n",
    "ex :- 0.258, -5.5\n",
    "      \n",
    "string:- \n",
    "\n",
    "They are enclosed in ' ' or \" \" and can represent numbers or alphabets or sentences. They are similar to arrays with respect to calling individual items from it with help of its index but their value cant be changed.\n",
    "\n",
    "ex:- \"2\" ,'omkar\", \"I am learning python\"\n",
    "      "
   ]
  },
  {
   "cell_type": "markdown",
   "id": "1bcf68b5",
   "metadata": {},
   "source": [
    "<b>Q4].What is an expression made up of? What do all expressions do?"
   ]
  },
  {
   "cell_type": "markdown",
   "id": "9c381b03",
   "metadata": {},
   "source": [
    "<b> Ans:-\n",
    "    \n",
    "An expression is made up of operators and operand.\n",
    "\n",
    "Operator : - These are symbols with which we perform arithmetic,logical,relational operations on variables and constants\n",
    "             \n",
    "             Arthimetic operators : + , - , * , % , //\n",
    "             \n",
    "             Logical operators : > , < , == , >= , <= , !=\n",
    "                                                    \n",
    "             relational operators : and , or , not\n",
    "    \n",
    "Operand : - These are the variables and/or constants on which operators are applied\n",
    "             \n",
    "\n",
    "An expression produces some value depending upon operators and operands in it.                                                      \n",
    "                                                      \n",
    " "
   ]
  },
  {
   "cell_type": "code",
   "execution_count": 21,
   "id": "ead88b9a",
   "metadata": {},
   "outputs": [
    {
     "data": {
      "text/plain": [
       "8"
      ]
     },
     "execution_count": 21,
     "metadata": {},
     "output_type": "execute_result"
    }
   ],
   "source": [
    "#Example of expression\n",
    "\n",
    "3 + 5  # here 3 and 5 are operands and + is a operator and it values to 8"
   ]
  },
  {
   "cell_type": "markdown",
   "id": "784557e3",
   "metadata": {},
   "source": [
    "<b>Q5].This assignment statements, like spam = 10. What is the difference between an\n",
    "expression and a statement?"
   ]
  },
  {
   "cell_type": "markdown",
   "id": "3c48abb7",
   "metadata": {},
   "source": [
    "<b>Ans:-\n",
    "    \n",
    "Every line in program which makes a python code is a statement . All expressions are statements but all expressions are not statements . Example spam = 10 is a statemnt as it makes a python code but it doesnt evaluate to a value "
   ]
  },
  {
   "cell_type": "code",
   "execution_count": 8,
   "id": "c2563721",
   "metadata": {},
   "outputs": [],
   "source": [
    "spam = 10  #this is a statement as when we excute this block it doent evaluate as there is nothing to evaluate, we are assigning value to  a variable"
   ]
  },
  {
   "cell_type": "code",
   "execution_count": 22,
   "id": "1fa12b74",
   "metadata": {},
   "outputs": [
    {
     "data": {
      "text/plain": [
       "8"
      ]
     },
     "execution_count": 22,
     "metadata": {},
     "output_type": "execute_result"
    }
   ],
   "source": [
    "3+5 # this is also a statemnt but as it evaluate to somehting (8) it is an expression"
   ]
  },
  {
   "cell_type": "markdown",
   "id": "e007db69",
   "metadata": {},
   "source": [
    "<b>Q6]. After running the following code, what does the variable bacon contain?\n",
    "    \n",
    "bacon = 22\n",
    "    \n",
    "bacon + 1\n",
    "    "
   ]
  },
  {
   "cell_type": "markdown",
   "id": "ed99aa2d",
   "metadata": {},
   "source": [
    "<b> Ans:-\n",
    "    \n",
    "22"
   ]
  },
  {
   "cell_type": "code",
   "execution_count": 14,
   "id": "b83696d8",
   "metadata": {},
   "outputs": [
    {
     "name": "stdout",
     "output_type": "stream",
     "text": [
      "22\n"
     ]
    }
   ],
   "source": [
    "'''Variable bacon contains 22'''\n",
    "\n",
    "bacon = 22\n",
    "\n",
    "bacon + 1\n",
    "\n",
    "print(bacon)\n"
   ]
  },
  {
   "cell_type": "markdown",
   "id": "fb662b1e",
   "metadata": {},
   "source": [
    "<b>Q7]. What should the values of the following two terms be?\n",
    "    \n",
    "'spam' + 'spamspam'\n",
    "    \n",
    "'spam' * 3"
   ]
  },
  {
   "cell_type": "code",
   "execution_count": 1,
   "id": "8d2f6bd5",
   "metadata": {},
   "outputs": [
    {
     "data": {
      "text/plain": [
       "'spamspamspam'"
      ]
     },
     "execution_count": 1,
     "metadata": {},
     "output_type": "execute_result"
    }
   ],
   "source": [
    "'spam' + 'spamspam'"
   ]
  },
  {
   "cell_type": "code",
   "execution_count": 2,
   "id": "452fcdda",
   "metadata": {},
   "outputs": [
    {
     "data": {
      "text/plain": [
       "'spamspamspam'"
      ]
     },
     "execution_count": 2,
     "metadata": {},
     "output_type": "execute_result"
    }
   ],
   "source": [
    "'spam' * 3"
   ]
  },
  {
   "cell_type": "markdown",
   "id": "8c79ef33",
   "metadata": {},
   "source": [
    "<b>Q8].Why is eggs a valid variable name while 100 is invalid?"
   ]
  },
  {
   "cell_type": "markdown",
   "id": "c522488c",
   "metadata": {},
   "source": [
    "<b>Ans:-\n",
    "\n",
    "In lexical analysis phase of compiler, the code is broken down into small tokens and it tracks these tokens from left to right. When it encounters a variable starting with a number it can think of it as an int or float and later when it finds it is actually a variable assignment it needs to backtrack (or go back). In python and most other languages backtracking is not allowed as it can get complicated.Therefore 100 is not a valid variable name"
   ]
  },
  {
   "cell_type": "markdown",
   "id": "6f33ea16",
   "metadata": {},
   "source": [
    "<b>Q9]. What three functions can be used to get the integer, floating-point number, or string\n",
    "version of a value?"
   ]
  },
  {
   "cell_type": "markdown",
   "id": "9cbd7410",
   "metadata": {},
   "source": [
    "<b>Ans\n",
    "    \n",
    "The three functions are \n",
    "\n",
    "1) int()\n",
    "    \n",
    "2) float()\n",
    "    \n",
    "3) str()\n",
    "\n"
   ]
  },
  {
   "cell_type": "code",
   "execution_count": 17,
   "id": "f4d75ea3",
   "metadata": {},
   "outputs": [
    {
     "name": "stdout",
     "output_type": "stream",
     "text": [
      "<class 'int'>\n",
      "<class 'float'>\n",
      "<class 'str'>\n"
     ]
    }
   ],
   "source": [
    "# example of int()\n",
    "\n",
    "a = '3'\n",
    "a = int(a)\n",
    "\n",
    "print(type(a))  #gets data type of variable\n",
    "\n",
    "# example of float()\n",
    "\n",
    "b = 3\n",
    "b = float(b)\n",
    "\n",
    "print(type(b))\n",
    "      \n",
    "# example of str()\n",
    "\n",
    "c = 3\n",
    "c = str(b)\n",
    "\n",
    "print(type(c))      \n"
   ]
  },
  {
   "cell_type": "markdown",
   "id": "464fc31f",
   "metadata": {},
   "source": [
    "<b> Q10]. Why does this expression cause an error? How can you fix it?\n",
    "&#39;I have eaten &#39; + 99 + &#39; burritos.&#39;"
   ]
  },
  {
   "cell_type": "markdown",
   "id": "42c29f1b",
   "metadata": {},
   "source": [
    "Ans:- Only strings can be concatenated not int data type. Therefore we have to change 99 to string data type"
   ]
  },
  {
   "cell_type": "code",
   "execution_count": 20,
   "id": "544929b8",
   "metadata": {},
   "outputs": [
    {
     "data": {
      "text/plain": [
       "'I have eaten 99burritos.'"
      ]
     },
     "execution_count": 20,
     "metadata": {},
     "output_type": "execute_result"
    }
   ],
   "source": [
    "'I have eaten ' + str(99) + 'burritos.'"
   ]
  }
 ],
 "metadata": {
  "kernelspec": {
   "display_name": "Python 3 (ipykernel)",
   "language": "python",
   "name": "python3"
  },
  "language_info": {
   "codemirror_mode": {
    "name": "ipython",
    "version": 3
   },
   "file_extension": ".py",
   "mimetype": "text/x-python",
   "name": "python",
   "nbconvert_exporter": "python",
   "pygments_lexer": "ipython3",
   "version": "3.9.7"
  }
 },
 "nbformat": 4,
 "nbformat_minor": 5
}
